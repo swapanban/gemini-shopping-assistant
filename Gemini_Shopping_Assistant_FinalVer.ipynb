{
 "cells": [
  {
   "cell_type": "markdown",
   "id": "6b80c69c",
   "metadata": {
    "id": "6b80c69c"
   },
   "source": [
    "# Personalized Shopping Assistant with Gemini 2.0 Flash & Gradio (Kaggle 2023 Amazon Dataset Version)"
   ]
  },
  {
   "cell_type": "markdown",
   "id": "09309d14",
   "metadata": {
    "id": "09309d14"
   },
   "source": [
    "## Step 1: Upload Google Cloud Service Account Key"
   ]
  },
  {
   "cell_type": "markdown",
   "id": "d0900961",
   "metadata": {
    "id": "d0900961"
   },
   "source": [
    "### 📦 Library Imports\n",
    "This section imports all necessary libraries including LangChain, Google GenerativeAI, Pandas, and Gradio. These libraries are used for LLM access, data manipulation, and user interface development respectively."
   ]
  },
  {
   "cell_type": "code",
   "execution_count": 1,
   "id": "bec8cb6c",
   "metadata": {
    "colab": {
     "base_uri": "https://localhost:8080/",
     "height": 91
    },
    "id": "bec8cb6c",
    "outputId": "fd8f283a-4799-4953-b7a3-eb5b00fe3d71"
   },
   "outputs": [
    {
     "data": {
      "text/html": [
       "\n",
       "     <input type=\"file\" id=\"files-298337f1-06e2-4fba-bf62-54f27cb73a2c\" name=\"files[]\" multiple disabled\n",
       "        style=\"border:none\" />\n",
       "     <output id=\"result-298337f1-06e2-4fba-bf62-54f27cb73a2c\">\n",
       "      Upload widget is only available when the cell has been executed in the\n",
       "      current browser session. Please rerun this cell to enable.\n",
       "      </output>\n",
       "      <script>// Copyright 2017 Google LLC\n",
       "//\n",
       "// Licensed under the Apache License, Version 2.0 (the \"License\");\n",
       "// you may not use this file except in compliance with the License.\n",
       "// You may obtain a copy of the License at\n",
       "//\n",
       "//      http://www.apache.org/licenses/LICENSE-2.0\n",
       "//\n",
       "// Unless required by applicable law or agreed to in writing, software\n",
       "// distributed under the License is distributed on an \"AS IS\" BASIS,\n",
       "// WITHOUT WARRANTIES OR CONDITIONS OF ANY KIND, either express or implied.\n",
       "// See the License for the specific language governing permissions and\n",
       "// limitations under the License.\n",
       "\n",
       "/**\n",
       " * @fileoverview Helpers for google.colab Python module.\n",
       " */\n",
       "(function(scope) {\n",
       "function span(text, styleAttributes = {}) {\n",
       "  const element = document.createElement('span');\n",
       "  element.textContent = text;\n",
       "  for (const key of Object.keys(styleAttributes)) {\n",
       "    element.style[key] = styleAttributes[key];\n",
       "  }\n",
       "  return element;\n",
       "}\n",
       "\n",
       "// Max number of bytes which will be uploaded at a time.\n",
       "const MAX_PAYLOAD_SIZE = 100 * 1024;\n",
       "\n",
       "function _uploadFiles(inputId, outputId) {\n",
       "  const steps = uploadFilesStep(inputId, outputId);\n",
       "  const outputElement = document.getElementById(outputId);\n",
       "  // Cache steps on the outputElement to make it available for the next call\n",
       "  // to uploadFilesContinue from Python.\n",
       "  outputElement.steps = steps;\n",
       "\n",
       "  return _uploadFilesContinue(outputId);\n",
       "}\n",
       "\n",
       "// This is roughly an async generator (not supported in the browser yet),\n",
       "// where there are multiple asynchronous steps and the Python side is going\n",
       "// to poll for completion of each step.\n",
       "// This uses a Promise to block the python side on completion of each step,\n",
       "// then passes the result of the previous step as the input to the next step.\n",
       "function _uploadFilesContinue(outputId) {\n",
       "  const outputElement = document.getElementById(outputId);\n",
       "  const steps = outputElement.steps;\n",
       "\n",
       "  const next = steps.next(outputElement.lastPromiseValue);\n",
       "  return Promise.resolve(next.value.promise).then((value) => {\n",
       "    // Cache the last promise value to make it available to the next\n",
       "    // step of the generator.\n",
       "    outputElement.lastPromiseValue = value;\n",
       "    return next.value.response;\n",
       "  });\n",
       "}\n",
       "\n",
       "/**\n",
       " * Generator function which is called between each async step of the upload\n",
       " * process.\n",
       " * @param {string} inputId Element ID of the input file picker element.\n",
       " * @param {string} outputId Element ID of the output display.\n",
       " * @return {!Iterable<!Object>} Iterable of next steps.\n",
       " */\n",
       "function* uploadFilesStep(inputId, outputId) {\n",
       "  const inputElement = document.getElementById(inputId);\n",
       "  inputElement.disabled = false;\n",
       "\n",
       "  const outputElement = document.getElementById(outputId);\n",
       "  outputElement.innerHTML = '';\n",
       "\n",
       "  const pickedPromise = new Promise((resolve) => {\n",
       "    inputElement.addEventListener('change', (e) => {\n",
       "      resolve(e.target.files);\n",
       "    });\n",
       "  });\n",
       "\n",
       "  const cancel = document.createElement('button');\n",
       "  inputElement.parentElement.appendChild(cancel);\n",
       "  cancel.textContent = 'Cancel upload';\n",
       "  const cancelPromise = new Promise((resolve) => {\n",
       "    cancel.onclick = () => {\n",
       "      resolve(null);\n",
       "    };\n",
       "  });\n",
       "\n",
       "  // Wait for the user to pick the files.\n",
       "  const files = yield {\n",
       "    promise: Promise.race([pickedPromise, cancelPromise]),\n",
       "    response: {\n",
       "      action: 'starting',\n",
       "    }\n",
       "  };\n",
       "\n",
       "  cancel.remove();\n",
       "\n",
       "  // Disable the input element since further picks are not allowed.\n",
       "  inputElement.disabled = true;\n",
       "\n",
       "  if (!files) {\n",
       "    return {\n",
       "      response: {\n",
       "        action: 'complete',\n",
       "      }\n",
       "    };\n",
       "  }\n",
       "\n",
       "  for (const file of files) {\n",
       "    const li = document.createElement('li');\n",
       "    li.append(span(file.name, {fontWeight: 'bold'}));\n",
       "    li.append(span(\n",
       "        `(${file.type || 'n/a'}) - ${file.size} bytes, ` +\n",
       "        `last modified: ${\n",
       "            file.lastModifiedDate ? file.lastModifiedDate.toLocaleDateString() :\n",
       "                                    'n/a'} - `));\n",
       "    const percent = span('0% done');\n",
       "    li.appendChild(percent);\n",
       "\n",
       "    outputElement.appendChild(li);\n",
       "\n",
       "    const fileDataPromise = new Promise((resolve) => {\n",
       "      const reader = new FileReader();\n",
       "      reader.onload = (e) => {\n",
       "        resolve(e.target.result);\n",
       "      };\n",
       "      reader.readAsArrayBuffer(file);\n",
       "    });\n",
       "    // Wait for the data to be ready.\n",
       "    let fileData = yield {\n",
       "      promise: fileDataPromise,\n",
       "      response: {\n",
       "        action: 'continue',\n",
       "      }\n",
       "    };\n",
       "\n",
       "    // Use a chunked sending to avoid message size limits. See b/62115660.\n",
       "    let position = 0;\n",
       "    do {\n",
       "      const length = Math.min(fileData.byteLength - position, MAX_PAYLOAD_SIZE);\n",
       "      const chunk = new Uint8Array(fileData, position, length);\n",
       "      position += length;\n",
       "\n",
       "      const base64 = btoa(String.fromCharCode.apply(null, chunk));\n",
       "      yield {\n",
       "        response: {\n",
       "          action: 'append',\n",
       "          file: file.name,\n",
       "          data: base64,\n",
       "        },\n",
       "      };\n",
       "\n",
       "      let percentDone = fileData.byteLength === 0 ?\n",
       "          100 :\n",
       "          Math.round((position / fileData.byteLength) * 100);\n",
       "      percent.textContent = `${percentDone}% done`;\n",
       "\n",
       "    } while (position < fileData.byteLength);\n",
       "  }\n",
       "\n",
       "  // All done.\n",
       "  yield {\n",
       "    response: {\n",
       "      action: 'complete',\n",
       "    }\n",
       "  };\n",
       "}\n",
       "\n",
       "scope.google = scope.google || {};\n",
       "scope.google.colab = scope.google.colab || {};\n",
       "scope.google.colab._files = {\n",
       "  _uploadFiles,\n",
       "  _uploadFilesContinue,\n",
       "};\n",
       "})(self);\n",
       "</script> "
      ],
      "text/plain": [
       "<IPython.core.display.HTML object>"
      ]
     },
     "metadata": {},
     "output_type": "display_data"
    },
    {
     "name": "stdout",
     "output_type": "stream",
     "text": [
      "Saving shopping-assistant-llm-26f4ad1d2bd4.json to shopping-assistant-llm-26f4ad1d2bd4.json\n",
      "Service account uploaded.\n"
     ]
    }
   ],
   "source": [
    "from google.colab import files\n",
    "import os\n",
    "\n",
    "uploaded = files.upload()\n",
    "service_account_path = list(uploaded.keys())[0]\n",
    "os.environ[\"GOOGLE_APPLICATION_CREDENTIALS\"] = service_account_path\n",
    "print(\"Service account uploaded.\")"
   ]
  },
  {
   "cell_type": "markdown",
   "id": "d4be2a5a",
   "metadata": {
    "id": "d4be2a5a"
   },
   "source": [
    "## Step 2: Install Required Packages"
   ]
  },
  {
   "cell_type": "markdown",
   "id": "f1aebb0c",
   "metadata": {
    "id": "f1aebb0c"
   },
   "source": [
    "### 🛠️ Install Required Packages\n",
    "\n",
    "This cell ensures all required Python packages are installed in the Colab environment. It installs `google-cloud-aiplatform`, `faiss-cpu`, `sentence-transformers` for embeddings, `gradio` for UI, and `datasets` for handling data."
   ]
  },
  {
   "cell_type": "code",
   "execution_count": 2,
   "id": "c74c6625",
   "metadata": {
    "colab": {
     "base_uri": "https://localhost:8080/"
    },
    "id": "c74c6625",
    "outputId": "cd877083-1ee7-4986-fb22-1218a9bf6c5e"
   },
   "outputs": [
    {
     "name": "stdout",
     "output_type": "stream",
     "text": [
      "\u001b[2K   \u001b[90m━━━━━━━━━━━━━━━━━━━━━━━━━━━━━━━━━━━━━━━━\u001b[0m \u001b[32m7.7/7.7 MB\u001b[0m \u001b[31m129.0 MB/s\u001b[0m eta \u001b[36m0:00:00\u001b[0m\n",
      "\u001b[2K   \u001b[90m━━━━━━━━━━━━━━━━━━━━━━━━━━━━━━━━━━━━━━━━\u001b[0m \u001b[32m31.3/31.3 MB\u001b[0m \u001b[31m77.1 MB/s\u001b[0m eta \u001b[36m0:00:00\u001b[0m\n",
      "\u001b[2K   \u001b[90m━━━━━━━━━━━━━━━━━━━━━━━━━━━━━━━━━━━━━━━━\u001b[0m \u001b[32m54.2/54.2 MB\u001b[0m \u001b[31m42.9 MB/s\u001b[0m eta \u001b[36m0:00:00\u001b[0m\n",
      "\u001b[2K   \u001b[90m━━━━━━━━━━━━━━━━━━━━━━━━━━━━━━━━━━━━━━━━\u001b[0m \u001b[32m323.3/323.3 kB\u001b[0m \u001b[31m27.5 MB/s\u001b[0m eta \u001b[36m0:00:00\u001b[0m\n",
      "\u001b[2K   \u001b[90m━━━━━━━━━━━━━━━━━━━━━━━━━━━━━━━━━━━━━━━━\u001b[0m \u001b[32m491.5/491.5 kB\u001b[0m \u001b[31m37.6 MB/s\u001b[0m eta \u001b[36m0:00:00\u001b[0m\n",
      "\u001b[2K   \u001b[90m━━━━━━━━━━━━━━━━━━━━━━━━━━━━━━━━━━━━━━━━\u001b[0m \u001b[32m193.6/193.6 kB\u001b[0m \u001b[31m18.7 MB/s\u001b[0m eta \u001b[36m0:00:00\u001b[0m\n",
      "\u001b[2K   \u001b[90m━━━━━━━━━━━━━━━━━━━━━━━━━━━━━━━━━━━━━━━━\u001b[0m \u001b[32m363.4/363.4 MB\u001b[0m \u001b[31m2.7 MB/s\u001b[0m eta \u001b[36m0:00:00\u001b[0m\n",
      "\u001b[2K   \u001b[90m━━━━━━━━━━━━━━━━━━━━━━━━━━━━━━━━━━━━━━━━\u001b[0m \u001b[32m13.8/13.8 MB\u001b[0m \u001b[31m123.1 MB/s\u001b[0m eta \u001b[36m0:00:00\u001b[0m\n",
      "\u001b[2K   \u001b[90m━━━━━━━━━━━━━━━━━━━━━━━━━━━━━━━━━━━━━━━━\u001b[0m \u001b[32m24.6/24.6 MB\u001b[0m \u001b[31m95.7 MB/s\u001b[0m eta \u001b[36m0:00:00\u001b[0m\n",
      "\u001b[2K   \u001b[90m━━━━━━━━━━━━━━━━━━━━━━━━━━━━━━━━━━━━━━━━\u001b[0m \u001b[32m883.7/883.7 kB\u001b[0m \u001b[31m46.7 MB/s\u001b[0m eta \u001b[36m0:00:00\u001b[0m\n",
      "\u001b[2K   \u001b[90m━━━━━━━━━━━━━━━━━━━━━━━━━━━━━━━━━━━━━━━━\u001b[0m \u001b[32m664.8/664.8 MB\u001b[0m \u001b[31m1.7 MB/s\u001b[0m eta \u001b[36m0:00:00\u001b[0m\n",
      "\u001b[2K   \u001b[90m━━━━━━━━━━━━━━━━━━━━━━━━━━━━━━━━━━━━━━━━\u001b[0m \u001b[32m211.5/211.5 MB\u001b[0m \u001b[31m4.0 MB/s\u001b[0m eta \u001b[36m0:00:00\u001b[0m\n",
      "\u001b[2K   \u001b[90m━━━━━━━━━━━━━━━━━━━━━━━━━━━━━━━━━━━━━━━━\u001b[0m \u001b[32m56.3/56.3 MB\u001b[0m \u001b[31m37.5 MB/s\u001b[0m eta \u001b[36m0:00:00\u001b[0m\n",
      "\u001b[2K   \u001b[90m━━━━━━━━━━━━━━━━━━━━━━━━━━━━━━━━━━━━━━━━\u001b[0m \u001b[32m127.9/127.9 MB\u001b[0m \u001b[31m17.0 MB/s\u001b[0m eta \u001b[36m0:00:00\u001b[0m\n",
      "\u001b[2K   \u001b[90m━━━━━━━━━━━━━━━━━━━━━━━━━━━━━━━━━━━━━━━━\u001b[0m \u001b[32m207.5/207.5 MB\u001b[0m \u001b[31m4.2 MB/s\u001b[0m eta \u001b[36m0:00:00\u001b[0m\n",
      "\u001b[2K   \u001b[90m━━━━━━━━━━━━━━━━━━━━━━━━━━━━━━━━━━━━━━━━\u001b[0m \u001b[32m21.1/21.1 MB\u001b[0m \u001b[31m105.7 MB/s\u001b[0m eta \u001b[36m0:00:00\u001b[0m\n",
      "\u001b[?25h\u001b[31mERROR: pip's dependency resolver does not currently take into account all the packages that are installed. This behaviour is the source of the following dependency conflicts.\n",
      "gcsfs 2025.3.2 requires fsspec==2025.3.2, but you have fsspec 2025.3.0 which is incompatible.\u001b[0m\u001b[31m\n",
      "\u001b[0m"
     ]
    }
   ],
   "source": [
    "!pip install -q --upgrade google-cloud-aiplatform faiss-cpu sentence-transformers gradio datasets"
   ]
  },
  {
   "cell_type": "markdown",
   "id": "ffdaa392",
   "metadata": {
    "id": "ffdaa392"
   },
   "source": [
    "## Step 3: Import Libraries"
   ]
  },
  {
   "cell_type": "markdown",
   "id": "fc3943d4",
   "metadata": {
    "id": "fc3943d4"
   },
   "source": [
    "### 📦 Library Imports\n",
    "This section imports all necessary libraries including LangChain, Google GenerativeAI, Pandas, and Gradio. These libraries are used for LLM access, data manipulation, and user interface development respectively."
   ]
  },
  {
   "cell_type": "code",
   "execution_count": 3,
   "id": "02432d61",
   "metadata": {
    "id": "02432d61"
   },
   "outputs": [],
   "source": [
    "from google.cloud import aiplatform\n",
    "from vertexai.generative_models import GenerativeModel\n",
    "from sentence_transformers import SentenceTransformer\n",
    "import faiss\n",
    "import pandas as pd\n",
    "import numpy as np\n",
    "import gradio as gr\n",
    "import datetime\n",
    "from datasets import load_dataset"
   ]
  },
  {
   "cell_type": "markdown",
   "id": "036d2415",
   "metadata": {
    "id": "036d2415"
   },
   "source": [
    "## Step 4: Initialize Vertex AI"
   ]
  },
  {
   "cell_type": "markdown",
   "id": "73ba038a",
   "metadata": {
    "id": "73ba038a"
   },
   "source": [
    "### ☁️ Vertex AI Initialization\n",
    "\n",
    "Initializes Google Cloud Vertex AI using the specified project ID and region. This setup is essential for connecting to Gemini Flash model and other Vertex services."
   ]
  },
  {
   "cell_type": "code",
   "execution_count": 4,
   "id": "926729db",
   "metadata": {
    "colab": {
     "base_uri": "https://localhost:8080/"
    },
    "id": "926729db",
    "outputId": "8fd2caf7-e57c-41c3-e820-ee6406da96bb"
   },
   "outputs": [
    {
     "name": "stdout",
     "output_type": "stream",
     "text": [
      "Vertex AI initialized.\n"
     ]
    }
   ],
   "source": [
    "aiplatform.init(project=\"shopping-assistant-llm\", location=\"us-central1\")\n",
    "print(\"Vertex AI initialized.\")"
   ]
  },
  {
   "cell_type": "markdown",
   "id": "b44a41a9",
   "metadata": {
    "id": "b44a41a9"
   },
   "source": [
    "## Step 5: Load Amazon Dataset from Kaggle"
   ]
  },
  {
   "cell_type": "markdown",
   "id": "f5aca834",
   "metadata": {
    "id": "f5aca834"
   },
   "source": [
    "### 📦 Library Imports\n",
    "This section imports all necessary libraries including LangChain, Google GenerativeAI, Pandas, and Gradio. These libraries are used for LLM access, data manipulation, and user interface development respectively."
   ]
  },
  {
   "cell_type": "code",
   "execution_count": 5,
   "id": "5af65888",
   "metadata": {
    "colab": {
     "base_uri": "https://localhost:8080/",
     "height": 625
    },
    "id": "5af65888",
    "outputId": "77987b74-5f19-4439-958b-9a64360930e6"
   },
   "outputs": [
    {
     "name": "stdout",
     "output_type": "stream",
     "text": [
      "Path to dataset files: /kaggle/input/amazon-sales-dataset\n",
      "Files in dataset folder: ['amazon.csv']\n",
      "📦 Dataset Preview:\n"
     ]
    },
    {
     "data": {
      "application/vnd.google.colaboratory.intrinsic+json": {
       "summary": "{\n  \"name\": \"amazon_df\",\n  \"rows\": 1465,\n  \"fields\": [\n    {\n      \"column\": \"product_id\",\n      \"properties\": {\n        \"dtype\": \"string\",\n        \"num_unique_values\": 1351,\n        \"samples\": [\n          \"B09GFLXVH9\",\n          \"B0BC9BW512\",\n          \"B097JVLW3L\"\n        ],\n        \"semantic_type\": \"\",\n        \"description\": \"\"\n      }\n    },\n    {\n      \"column\": \"product_name\",\n      \"properties\": {\n        \"dtype\": \"string\",\n        \"num_unique_values\": 1337,\n        \"samples\": [\n          \"Glun Multipurpose Portable Electronic Digital Weighing Scale Weight Machine (10 Kg - with Back Light)\",\n          \"Akiara\\u00ae - Makes life easy Mini Sewing Machine with Table Set | Tailoring Machine | Hand Sewing Machine with extension table, foot pedal, adapter\",\n          \"TTK Prestige Limited Orion Mixer Grinder 500 Watts, 3 Jars (1200ml, 1000ml, 500ml) (Red)\"\n        ],\n        \"semantic_type\": \"\",\n        \"description\": \"\"\n      }\n    },\n    {\n      \"column\": \"category\",\n      \"properties\": {\n        \"dtype\": \"category\",\n        \"num_unique_values\": 211,\n        \"samples\": [\n          \"Electronics|Mobiles&Accessories|MobileAccessories|Photo&VideoAccessories|SelfieSticks\",\n          \"Home&Kitchen|Kitchen&HomeAppliances|Coffee,Tea&Espresso|CoffeeGrinders|ElectricGrinders\",\n          \"Computers&Accessories|Accessories&Peripherals|HardDriveAccessories|Caddies\"\n        ],\n        \"semantic_type\": \"\",\n        \"description\": \"\"\n      }\n    },\n    {\n      \"column\": \"discounted_price\",\n      \"properties\": {\n        \"dtype\": \"category\",\n        \"num_unique_values\": 550,\n        \"samples\": [\n          \"\\u20b920,999\",\n          \"\\u20b91,699\",\n          \"\\u20b9419\"\n        ],\n        \"semantic_type\": \"\",\n        \"description\": \"\"\n      }\n    },\n    {\n      \"column\": \"actual_price\",\n      \"properties\": {\n        \"dtype\": \"category\",\n        \"num_unique_values\": 449,\n        \"samples\": [\n          \"\\u20b93,210\",\n          \"\\u20b91,129\",\n          \"\\u20b94,500\"\n        ],\n        \"semantic_type\": \"\",\n        \"description\": \"\"\n      }\n    },\n    {\n      \"column\": \"discount_percentage\",\n      \"properties\": {\n        \"dtype\": \"category\",\n        \"num_unique_values\": 92,\n        \"samples\": [\n          \"86%\",\n          \"72%\",\n          \"26%\"\n        ],\n        \"semantic_type\": \"\",\n        \"description\": \"\"\n      }\n    },\n    {\n      \"column\": \"rating\",\n      \"properties\": {\n        \"dtype\": \"category\",\n        \"num_unique_values\": 28,\n        \"samples\": [\n          \"3.6\",\n          \"3\",\n          \"3.3\"\n        ],\n        \"semantic_type\": \"\",\n        \"description\": \"\"\n      }\n    },\n    {\n      \"column\": \"rating_count\",\n      \"properties\": {\n        \"dtype\": \"string\",\n        \"num_unique_values\": 1143,\n        \"samples\": [\n          \"197\",\n          \"7,945\",\n          \"1,40,036\"\n        ],\n        \"semantic_type\": \"\",\n        \"description\": \"\"\n      }\n    },\n    {\n      \"column\": \"about_product\",\n      \"properties\": {\n        \"dtype\": \"string\",\n        \"num_unique_values\": 1293,\n        \"samples\": [\n          \"Advanced Bluetooth calling: Upgrade to an effortless calling experience - attend/reject calls and dial numbers, from your wrist.;Digital crown: Navigate through the watch, adjust volume and change the watch face via the fully-functional crown.|1.72\\u2019\\u2019display: ColorFit Pro 4 features 1.72\\u2019\\u2019 TFT LCD with 25% more screen area than ColorFit Pro 3.;Vivid clarity: View information under the brightest sun, thanks to 311 PPI and 500 nits of brightness.|60Hz refresh rate: Get smoother scrolling & navigation experience.;100 sports modes: Take your pick from 100 sports modes and ace your game.|Noise Health Suite: Know how your body is doing with the battery of fitness features.;Productivity suite: Get more work done with quick reply options, stock market updates, alarm and disconnect with smart DND when you want to.; Water Resistance Level: Water Resistant|Item Type Name: Smartwatch; Connectivity Technology: Usb; Included Components: \\u200eSmartwatch, Magnetic Charger, User Manual, Warranty Card\",\n          \"Fire-Boltt is India' No 1 Wearable Watch Brand Q122 by IDC Worldwide quarterly wearable device tracker Q122.\\u30101.69\\u201d HD Large Touch Screen\\u3011- Fire-Boltt Ninja 3 comes with a 1.69\\u201d HD Full Touch Display for smooth swipes and clear vision;\\u3010SPO2/ Oxygen, Heart Rate\\u3011 - Fire-Boltt Ninja 3 Smartwatch comes with real time 24*7 SPO2 / Blood Oxygen tracking, Dynamic Heart Rate Monitoring (If a patient is suffering from Covid 19 please use a medical device prescribed by the Doctor)|\\u301060 workout modes\\u3011- This smartwatch consists of 60 sports mode to track. Keep a track of all your activities and compare history to analyse your performance. Count steps, distance, and calories burned.;\\u3010IP68 Water Resistant\\u3011- This smartwatch can withstand dust, spills, raindrops and is sweatproof too|\\u3010POWERFUL BATTERY\\u3011 - About 7 days battery life and a Standby Time of 25 Days \\u3010Multiple Watch Faces\\u3011- Unlimited Customized Built in Watch Faces and also multiple watch faces through the app;\\u3010Stay Social Stay Updated\\u3011 \\u2013 Inbuilt Social Media Notifications.|\\u3010All In One Smart Coach\\u3011 - Track your Daily Steps, Sleep, Fitness, Sports, Heart Rate and SPO2 \\u3010Enjoy Music And Camera Control\\u3011 \\u3010IP68 Water Resistant\\u3011- This smartwatch can withstand dust, spills, raindrops and is sweatproof too; Water Resistance Level: water_resistant|Connectivity Technology: Bluetooth; Clasp Type: Tang Buckle; Compatible Devices: Smartphonetablet; Human Interface Input: Touch Screenbuttons; Item Type Name: Smart Watch; Included Components: 1 Smartwatch, 1 Manual, 1 Magnetic Charger, 1 Warranty Card; Band Color: Green; Band Material Type: Silicone; Case Material Type: Plastic; Color Name: Green\",\n          \"Keyboard : Standard keyboard|Rupee key, Comfortable|Silent Durable keys|Mouse : Ergonomic design, Accurate optical sensor|High resolution enabling faster navigation\"\n        ],\n        \"semantic_type\": \"\",\n        \"description\": \"\"\n      }\n    },\n    {\n      \"column\": \"user_id\",\n      \"properties\": {\n        \"dtype\": \"string\",\n        \"num_unique_values\": 1194,\n        \"samples\": [\n          \"AEWW4LJOVXD65UKE7QCBCHQZMG7A,AGVWB5YTQZC7GAIV4PCCOFF2U27A,AFUR2THG6BYV6IRA5JV6LBQNG2AA,AFSG5TXKKCLHBK3FABKJABBBUHEQ,AF2DOUVTY5LHTVWGGVE6YHW5KEGA,AFEX5OM5UOST6POIWTBW6TCEZ2YA,AFKZZOQ7J2SOXP3OHFBEDXNFINCQ,AFD6P5IRXY6KWXUW4H7X6ECRMSLA\",\n          \"AG65C34LATM4J3ZFKJJPDNISZKUQ,AG76GICZHJGA7YVN4TORX36ONVYA,AHHIHCEKEYDIRPJ5W7WXGLB3E66Q,AFYSF6635O2EAPR4GMVBH74FSIFQ,AHAVRPA7Z3PKTTWVBVUISCKI7RYQ,AEDH674UH53A5FKLUZCCM5LVKUQQ,AEUK344UA4FNU4PR4AWSPKWX5PPQ,AGPAK6ELVZPVKQ7GEZ7IUHNK2C3Q\",\n          \"AE3S2ZAEMH765KUJ57DR6HBZBB3Q,AHSIVUNTJMI5S5AJGFDE5EDQ355Q,AGQUDHVCMBW7DYS2HT5HA3QCZIEA,AFNXZNINQLTHKVRFI37VQAAFFGOA,AGVKQNHNS7PQK63FIB6EVC5GUAMQ,AEHZ4NOZ5SIDQLGODWS4UZ6RVQJA,AGBVAEUPMWYCDQIKNAD2DXEYWXZA,AEOJW7OWUZROZ6Z66ZQU33Y2ZYLQ\"\n        ],\n        \"semantic_type\": \"\",\n        \"description\": \"\"\n      }\n    },\n    {\n      \"column\": \"user_name\",\n      \"properties\": {\n        \"dtype\": \"string\",\n        \"num_unique_values\": 1194,\n        \"samples\": [\n          \"Kindle Customer,Aryan,pooja reddy,Amazon Customer,Meenakshi jasrotia,imamthulla,Anan,Sanjay Chavan\",\n          \"zain,Deepak,VIMAL,Shiv Sagar,Tamil selvan,Rakesh yadav,PAGOLA SURESH,Olivia\",\n          \"Fardeen mujawar,Pavan,Danny,Siddhartha Pratap,Rabindra Kumar Das,Amazon Customer,Rakesh Ranga Yadav,Nivedita Chatterjee\"\n        ],\n        \"semantic_type\": \"\",\n        \"description\": \"\"\n      }\n    },\n    {\n      \"column\": \"review_id\",\n      \"properties\": {\n        \"dtype\": \"string\",\n        \"num_unique_values\": 1194,\n        \"samples\": [\n          \"R1T4TKPYU5EJCB,R1D38AX8G0RVNS,R1KHCRDEEREQG7,R396UL83OTSD8F,R3CY781PK5CB8A,RBCCWRI4IUHH5,R2K7JYQMGQ31YJ,R3P0GJ4V5HPF2M\",\n          \"R2JCUKBR0BQ8ES,RNVX0V6SJF3CP,RW5MJG9LTX6QD,R37PSG13H70Z1F,R17RIHK0XXQDH5,R2P187SBO4SEMH,R1V49G7PD8Y93G,RU78E5A4MW0PK\",\n          \"RD6OIJUG0R241,R3EUJ7A6LG8X7V,R1DWGT4USEVGYK,R187KH5XJBPS86,R2XYH31E9NK0GU,RDYNZZPHU7SZK,R2MR0DYZVFN3HA,R3PV91U8ZYN5DU\"\n        ],\n        \"semantic_type\": \"\",\n        \"description\": \"\"\n      }\n    },\n    {\n      \"column\": \"review_title\",\n      \"properties\": {\n        \"dtype\": \"string\",\n        \"num_unique_values\": 1194,\n        \"samples\": [\n          \"Clearly makes a difference,Good,Value for money,Good material,The ink of parker is very lite,Good,Good,Very good\",\n          \"Good product with less money,At this price ok ok.,Good product,Good mouse at this price range,Good,Good for daily use ke liye,Good,Good\",\n          \"Ok,Like all other ball pens,Regular pen over priced,Nice,It is fine.,Awful blue ink,Nice and my Favorite Pen,Reasonable price\"\n        ],\n        \"semantic_type\": \"\",\n        \"description\": \"\"\n      }\n    },\n    {\n      \"column\": \"review_content\",\n      \"properties\": {\n        \"dtype\": \"string\",\n        \"num_unique_values\": 1212,\n        \"samples\": [\n          \"Reviewing just after a day of using this product. We made French fries and chicken tikka and result is quiet impressive! The recipe book and cooking tips from the given QR code is really helpful. Hope it serves for a long time.Not to forget about the beautiful bottle green and golden look of it.,,https://m.media-amazon.com/images/I/81lT2gsd9sL._SY88.jpg,No detailed user manual.. no idea about the cooking time. How to use is not describe.,It works well and plastic quality is poor but it can wothstand the temperature for sure. Its not a toy to look for high quality plastic. And for the half the price that the other models, we can ignore that.Functionality wise its perfect.Just buy it,Don't go for costly products as it is available in a reasonable price and it has so many great features. I'm happy with it,Pigeon never dissapointd with their quality. The best way to have healthy, crispy food.,The outcome of cooked is not up to the mark.  The recipe book was not attached so,  it is difficult to know how to cook different dishes.  I tried some but outcome was bad.  Definitely you will have to compromise taste if you use this appliance.  I'm very much worried about the current consumption.  Think before you buy these air fryers.\",\n          \"Not a perfect fit for long usage,One problem you may face if you use it continuously for a long time may be ear ache can be start..,Although it's an HP product there's nothing to write home about this headphone. It does what it is promised and there's value for money as you can trust the brand but don't expect anything 'extra'. No volume control or on/off button, comfortable to wear but not designed for comfort, clear sound, and a mic but no advanced features for either. Yet it's good for the price!,Product would not meet my expectation and sound quality is poor.,Sound quality is good , cancels the background noise.,Not a bad deal,Build quality and sound quality was good,Base and noise cancelling is also good \\u263a\\ufe0f\\ud83d\\ude0a,I bought it in october month but now is not wprking properly\",\n          \"ABOUT  AMAZONBASICS:xxxxxxxxxxxxxxxxxxxxxxxxxxxxxxAmazon Basics was launched in 2009 & is Amazon\\u2019s own inhouse brand for fast moving small electronic consumer goods.Here amazon uses its massive collection of sales data to launch products that are in huge demand & already exist in the market- but at lower prices. Simply put up a similar replica for something successful but at much affordable prices.If something isn\\u2019t an immediate hit, Amazon pulls it and moves on.Amazon otherwise is like an online marketplace where it provides a portal for various sellers to sell their product BUT with amazonbasics - Amazon is selling its own product at its own marketplace .Here it derives the benefit of eliminating any intermediate distributors or retailers & hence amazonbasics branded products are available for a lower price attracting bulk customers online.As an additional benefit, Amazonbasics products are delivered free to prime members & are covered under amazon warranty for all and hence any claim or replacement procedures are highly streamlined & immediately taken care of.ABOUT OUR PRODUCT ( REQUIREMENT vs ACTUAL):xxxxxxxxxxxxxxxxxxxxxxxxxxxxxxxxxxxxxxxxxxxxxxxxxxxxxxI recently purchased a new Qualcomm 3 Qbix car charger & was looking for a cable with USB A to Micro B connector. I listed my priorities under various heads to come up with a conclusion and let us compare the actual product based upon my initial requirements:1.) DATA EXCHANGE:*****************************Since it was to be primarily used for fast mobile devices charging in car, Data exchange capability was not much of my concern. Preference though would surely have been a USB 3 but it didn\\u2019t bother me if I could only get a USB 2.0 too.ACTUAL PRODUCT: I did try to copy a movie file just for the sake of testing data exchange and I found it to be pretty well. I did not capture any speed data but then we all know speed of data transfer also varies with the type of data being transferred. The more variety of data being transferred simultaneously the lower will be the speed.2.) LENGTH OF THE CABLE :**************************************Again since I could not afford to have a lengthy loop of cable bunched around my gear knob, I preferred to keep it short & simple hence my only lookout was upto around a meter or below.ACTUAL PRODUCT: The cable came nicely packed in a paper packet and was precisely 0.9 meters or approximately 3 feet long. The length was sufficient for me to plug-in any of the mobile devices to my car charger at the drivers or the side passenger\\u2019s seat.3.) TANGLE FREE/ FLEXIBILITY/ STRENGTH STANDARDS:**************************************************************************I am not particularly a fan of those stubborn braided wires which are so hard that they retain the shape in which they are bent. I wanted something that was thick yet flexible enough to acquire a circular shape when bunched.ACTUAL PRODUCT: The cable received looked exactly as shown over the site with good flexibility , reasonable thickness & a sturdy intermediate cable. The whole construction of the cable due it\\u2019s cable size & flexibility is almost tangle-free.The associated cable was not exactly thick but can\\u2019t be termed as thin or delicate too. It\\u2019s not the thickest I\\u2019ve seen but then thickest doesn\\u2019t always means most durable. Given my application it\\u2019s more than just suitable.The overall built & quality of the cable & insulation looks promising enough to last few years. Even if used for other than car charging it looks durable enough to last long.I had further shortlisted mansaa & an amkette cable for the same purpose but they were too long for my requirement.4.) COMPACT MOULDED CONNECTORS:*********************************************************Had an inclination towards moulded connectors to avoid any issues where the connectors break open exposing the terminal PCBs.ACTUAL PRODUCT : There are no complaints regarding the connectors of the actual cable. The connectors are perfectly moulded without any joints or risks of splitting open. The connector casings are further quite compact at terminals to fit in comfortably at scarce spaces.The connector ports are sturdy enough both at USB A & micro B ports. The micro B port pins lock securely onto the charging mobile devices which is quite good.No signs of loose construction.Being Gold-plated is more of a misleading & fancy term(in this case) as most of the metal ports designed today already have a corrosion resistance & nobody is going to use them in saline sea water anyways.5.) AVAILABILITY OF TIES/VELCRO STRAPS :***********************************************************As per my intended use in a car where compactness was of paramount importance, I expected an included cable tie or a Velcro strap would be a nice add-on to properly adjust & arrange the cable as per requirement.ACTUAL PRODUCT: This I miss the most in the provided actual cable, there is no provision of an included strap or cable tie through which I could adjust my required cable length easily.6.) DECENT CURRENT HANDLING CAPABILITY:******************************************************************On the newest QC 3.0 certified chargers the current transmission can go up to 3.4 amps in certain cases hence the cable needed to have a decent current handling ability.ACTUAL PRODUCT : The actual cable has a nameplate rating of handling up to 2.1 amps against demands at new QC 3.0 chargers that could go up to 3.4 amps. Here, let me clear out that the latest QC chargers vary voltage to current ratios to achieve desired fast charging  & thus it is not like a continuous flow of 3.4 amps is there, it keeps on reducing hence cable ratings designed for a continuous current handling of anything above 2.0 amps would sufficiently work with QC 3.0 chargers.Have tried it safely multiple times charging my Samsung S7 from 10 % without the cable getting hot.7.) WARRANTY:************************Comes with a 1 year warranty as expected. Not the best in the industry but reasonable.OTHER OBSERVATIONS:*************************************Apart from the above listed features, the other details of the actual product received worth mentioning are:8.) The cable is manufactured in China & imported by amazon warehouse dealers under the brand name & philosophy of amazonbasics.9.) The cable has a manufacturing date of Oct 2017 & it was imported to India in Dec 2017.10.) The cable has a MRP tag of 495 bucks however I purchased it online for 269 bucks.being a prime member shipping was free.11.) A customer care toll free number & email is also printed over the label for registration of any consumer grievances.FINAL VERDICT:xxxxxxxxxxxxxxxxxxIt has been few days since I have received & been using this product. So far everything from construction to performance seems to be convincing enough to recommend it and for a price of around 260 I suppose, its worth it.Will surely update if any malfunction is observed.,Worth for buy!,The quality that amazon basics at times give at cheap prices is beyond imagination. simply superb, goverment shouldnt hinder amazon products , amazon products rather gives competition to local qualityless products which consumers are forced to buy beacause they have no quality competition. Make in india is good, but if the make in india products are simple cheap copies of branded products without any investment in R and D, without R and D make in india would never be successfull and ousting companies like amazon will only lead to loss for consumers , govt should infact encourage such competition.,Amazon basics provides one of the best cables available for charging your phone or connecting devices.As an past customer of many cables from Amazon this cable doesn't also disappoint,Supports fast charging for all my Samsung phones.I use Samsung a9pro 2016, Samsung s8plus 2017, which this cable is compatible with .Very sturdy, thick and very long. 6 ftVery affordable pricing. Thanks AmazonI also use a USB c cable for my Samsung s20fe.,Super,Product charging is ok.. however it's mere 1 foot in length..  the vendor could have mentioned  correct product description.. there is no need to mislead.. too early to say performance as I have received it today.,Good,I have bought many cheap chinese micro usb cable in Rs 50 and Rs 100 of ubon and of many other chinese local companies,and none of them worked properly.Finall i decided to go for this.And it is charging as well transferring data, without any issue and i am very happy with my purchaseMy advice : Dont buy, cheap chinese local cables of.You will have to throw them in dustbean after some time.Better buy this one.\"\n        ],\n        \"semantic_type\": \"\",\n        \"description\": \"\"\n      }\n    },\n    {\n      \"column\": \"img_link\",\n      \"properties\": {\n        \"dtype\": \"string\",\n        \"num_unique_values\": 1412,\n        \"samples\": [\n          \"https://m.media-amazon.com/images/W/WEBP_402378-T2/images/I/51esjcOy79L._SY300_SX300_QL70_FMwebp_.jpg\",\n          \"https://m.media-amazon.com/images/I/41nRBNNDnNL._SX300_SY300_QL70_FMwebp_.jpg\",\n          \"https://m.media-amazon.com/images/I/31-hWNXDxiL._SX300_SY300_QL70_ML2_.jpg\"\n        ],\n        \"semantic_type\": \"\",\n        \"description\": \"\"\n      }\n    },\n    {\n      \"column\": \"product_link\",\n      \"properties\": {\n        \"dtype\": \"string\",\n        \"num_unique_values\": 1465,\n        \"samples\": [\n          \"https://www.amazon.in/Snapdragon-Resolution-Refresh-27-81Cm-Display/dp/B09XXZXQC1/ref=sr_1_437?qid=1672903017&s=computers&sr=1-437\",\n          \"https://www.amazon.in/Skadioo-Accessories-Receiver-Compatible-dongle/dp/B09LHXNZLR/ref=sr_1_195?qid=1672909134&s=electronics&sr=1-195\",\n          \"https://www.amazon.in/LOHAYA-Assistant-Compatible-Xstream-Function/dp/B09LV13JFB/ref=sr_1_408?qid=1672909144&s=electronics&sr=1-408\"\n        ],\n        \"semantic_type\": \"\",\n        \"description\": \"\"\n      }\n    }\n  ]\n}",
       "type": "dataframe",
       "variable_name": "amazon_df"
      },
      "text/html": [
       "\n",
       "  <div id=\"df-164cb97e-0e6c-44e9-93a7-b2446fe9c8ce\" class=\"colab-df-container\">\n",
       "    <div>\n",
       "<style scoped>\n",
       "    .dataframe tbody tr th:only-of-type {\n",
       "        vertical-align: middle;\n",
       "    }\n",
       "\n",
       "    .dataframe tbody tr th {\n",
       "        vertical-align: top;\n",
       "    }\n",
       "\n",
       "    .dataframe thead th {\n",
       "        text-align: right;\n",
       "    }\n",
       "</style>\n",
       "<table border=\"1\" class=\"dataframe\">\n",
       "  <thead>\n",
       "    <tr style=\"text-align: right;\">\n",
       "      <th></th>\n",
       "      <th>product_id</th>\n",
       "      <th>product_name</th>\n",
       "      <th>category</th>\n",
       "      <th>discounted_price</th>\n",
       "      <th>actual_price</th>\n",
       "      <th>discount_percentage</th>\n",
       "      <th>rating</th>\n",
       "      <th>rating_count</th>\n",
       "      <th>about_product</th>\n",
       "      <th>user_id</th>\n",
       "      <th>user_name</th>\n",
       "      <th>review_id</th>\n",
       "      <th>review_title</th>\n",
       "      <th>review_content</th>\n",
       "      <th>img_link</th>\n",
       "      <th>product_link</th>\n",
       "    </tr>\n",
       "  </thead>\n",
       "  <tbody>\n",
       "    <tr>\n",
       "      <th>0</th>\n",
       "      <td>B07JW9H4J1</td>\n",
       "      <td>Wayona Nylon Braided USB to Lightning Fast Cha...</td>\n",
       "      <td>Computers&amp;Accessories|Accessories&amp;Peripherals|...</td>\n",
       "      <td>₹399</td>\n",
       "      <td>₹1,099</td>\n",
       "      <td>64%</td>\n",
       "      <td>4.2</td>\n",
       "      <td>24,269</td>\n",
       "      <td>High Compatibility : Compatible With iPhone 12...</td>\n",
       "      <td>AG3D6O4STAQKAY2UVGEUV46KN35Q,AHMY5CWJMMK5BJRBB...</td>\n",
       "      <td>Manav,Adarsh gupta,Sundeep,S.Sayeed Ahmed,jasp...</td>\n",
       "      <td>R3HXWT0LRP0NMF,R2AJM3LFTLZHFO,R6AQJGUP6P86,R1K...</td>\n",
       "      <td>Satisfied,Charging is really fast,Value for mo...</td>\n",
       "      <td>Looks durable Charging is fine tooNo complains...</td>\n",
       "      <td>https://m.media-amazon.com/images/W/WEBP_40237...</td>\n",
       "      <td>https://www.amazon.in/Wayona-Braided-WN3LG1-Sy...</td>\n",
       "    </tr>\n",
       "    <tr>\n",
       "      <th>1</th>\n",
       "      <td>B098NS6PVG</td>\n",
       "      <td>Ambrane Unbreakable 60W / 3A Fast Charging 1.5...</td>\n",
       "      <td>Computers&amp;Accessories|Accessories&amp;Peripherals|...</td>\n",
       "      <td>₹199</td>\n",
       "      <td>₹349</td>\n",
       "      <td>43%</td>\n",
       "      <td>4.0</td>\n",
       "      <td>43,994</td>\n",
       "      <td>Compatible with all Type C enabled devices, be...</td>\n",
       "      <td>AECPFYFQVRUWC3KGNLJIOREFP5LQ,AGYYVPDD7YG7FYNBX...</td>\n",
       "      <td>ArdKn,Nirbhay kumar,Sagar Viswanathan,Asp,Plac...</td>\n",
       "      <td>RGIQEG07R9HS2,R1SMWZQ86XIN8U,R2J3Y1WL29GWDE,RY...</td>\n",
       "      <td>A Good Braided Cable for Your Type C Device,Go...</td>\n",
       "      <td>I ordered this cable to connect my phone to An...</td>\n",
       "      <td>https://m.media-amazon.com/images/W/WEBP_40237...</td>\n",
       "      <td>https://www.amazon.in/Ambrane-Unbreakable-Char...</td>\n",
       "    </tr>\n",
       "    <tr>\n",
       "      <th>2</th>\n",
       "      <td>B096MSW6CT</td>\n",
       "      <td>Sounce Fast Phone Charging Cable &amp; Data Sync U...</td>\n",
       "      <td>Computers&amp;Accessories|Accessories&amp;Peripherals|...</td>\n",
       "      <td>₹199</td>\n",
       "      <td>₹1,899</td>\n",
       "      <td>90%</td>\n",
       "      <td>3.9</td>\n",
       "      <td>7,928</td>\n",
       "      <td>【 Fast Charger&amp; Data Sync】-With built-in safet...</td>\n",
       "      <td>AGU3BBQ2V2DDAMOAKGFAWDDQ6QHA,AESFLDV2PT363T2AQ...</td>\n",
       "      <td>Kunal,Himanshu,viswanath,sai niharka,saqib mal...</td>\n",
       "      <td>R3J3EQQ9TZI5ZJ,R3E7WBGK7ID0KV,RWU79XKQ6I1QF,R2...</td>\n",
       "      <td>Good speed for earlier versions,Good Product,W...</td>\n",
       "      <td>Not quite durable and sturdy,https://m.media-a...</td>\n",
       "      <td>https://m.media-amazon.com/images/W/WEBP_40237...</td>\n",
       "      <td>https://www.amazon.in/Sounce-iPhone-Charging-C...</td>\n",
       "    </tr>\n",
       "    <tr>\n",
       "      <th>3</th>\n",
       "      <td>B08HDJ86NZ</td>\n",
       "      <td>boAt Deuce USB 300 2 in 1 Type-C &amp; Micro USB S...</td>\n",
       "      <td>Computers&amp;Accessories|Accessories&amp;Peripherals|...</td>\n",
       "      <td>₹329</td>\n",
       "      <td>₹699</td>\n",
       "      <td>53%</td>\n",
       "      <td>4.2</td>\n",
       "      <td>94,363</td>\n",
       "      <td>The boAt Deuce USB 300 2 in 1 cable is compati...</td>\n",
       "      <td>AEWAZDZZJLQUYVOVGBEUKSLXHQ5A,AG5HTSFRRE6NL3M5S...</td>\n",
       "      <td>Omkar dhale,JD,HEMALATHA,Ajwadh a.,amar singh ...</td>\n",
       "      <td>R3EEUZKKK9J36I,R3HJVYCLYOY554,REDECAZ7AMPQC,R1...</td>\n",
       "      <td>Good product,Good one,Nice,Really nice product...</td>\n",
       "      <td>Good product,long wire,Charges good,Nice,I bou...</td>\n",
       "      <td>https://m.media-amazon.com/images/I/41V5FtEWPk...</td>\n",
       "      <td>https://www.amazon.in/Deuce-300-Resistant-Tang...</td>\n",
       "    </tr>\n",
       "    <tr>\n",
       "      <th>4</th>\n",
       "      <td>B08CF3B7N1</td>\n",
       "      <td>Portronics Konnect L 1.2M Fast Charging 3A 8 P...</td>\n",
       "      <td>Computers&amp;Accessories|Accessories&amp;Peripherals|...</td>\n",
       "      <td>₹154</td>\n",
       "      <td>₹399</td>\n",
       "      <td>61%</td>\n",
       "      <td>4.2</td>\n",
       "      <td>16,905</td>\n",
       "      <td>[CHARGE &amp; SYNC FUNCTION]- This cable comes wit...</td>\n",
       "      <td>AE3Q6KSUK5P75D5HFYHCRAOLODSA,AFUGIFH5ZAFXRDSZH...</td>\n",
       "      <td>rahuls6099,Swasat Borah,Ajay Wadke,Pranali,RVK...</td>\n",
       "      <td>R1BP4L2HH9TFUP,R16PVJEXKV6QZS,R2UPDB81N66T4P,R...</td>\n",
       "      <td>As good as original,Decent,Good one for second...</td>\n",
       "      <td>Bought this instead of original apple, does th...</td>\n",
       "      <td>https://m.media-amazon.com/images/W/WEBP_40237...</td>\n",
       "      <td>https://www.amazon.in/Portronics-Konnect-POR-1...</td>\n",
       "    </tr>\n",
       "  </tbody>\n",
       "</table>\n",
       "</div>\n",
       "    <div class=\"colab-df-buttons\">\n",
       "\n",
       "  <div class=\"colab-df-container\">\n",
       "    <button class=\"colab-df-convert\" onclick=\"convertToInteractive('df-164cb97e-0e6c-44e9-93a7-b2446fe9c8ce')\"\n",
       "            title=\"Convert this dataframe to an interactive table.\"\n",
       "            style=\"display:none;\">\n",
       "\n",
       "  <svg xmlns=\"http://www.w3.org/2000/svg\" height=\"24px\" viewBox=\"0 -960 960 960\">\n",
       "    <path d=\"M120-120v-720h720v720H120Zm60-500h600v-160H180v160Zm220 220h160v-160H400v160Zm0 220h160v-160H400v160ZM180-400h160v-160H180v160Zm440 0h160v-160H620v160ZM180-180h160v-160H180v160Zm440 0h160v-160H620v160Z\"/>\n",
       "  </svg>\n",
       "    </button>\n",
       "\n",
       "  <style>\n",
       "    .colab-df-container {\n",
       "      display:flex;\n",
       "      gap: 12px;\n",
       "    }\n",
       "\n",
       "    .colab-df-convert {\n",
       "      background-color: #E8F0FE;\n",
       "      border: none;\n",
       "      border-radius: 50%;\n",
       "      cursor: pointer;\n",
       "      display: none;\n",
       "      fill: #1967D2;\n",
       "      height: 32px;\n",
       "      padding: 0 0 0 0;\n",
       "      width: 32px;\n",
       "    }\n",
       "\n",
       "    .colab-df-convert:hover {\n",
       "      background-color: #E2EBFA;\n",
       "      box-shadow: 0px 1px 2px rgba(60, 64, 67, 0.3), 0px 1px 3px 1px rgba(60, 64, 67, 0.15);\n",
       "      fill: #174EA6;\n",
       "    }\n",
       "\n",
       "    .colab-df-buttons div {\n",
       "      margin-bottom: 4px;\n",
       "    }\n",
       "\n",
       "    [theme=dark] .colab-df-convert {\n",
       "      background-color: #3B4455;\n",
       "      fill: #D2E3FC;\n",
       "    }\n",
       "\n",
       "    [theme=dark] .colab-df-convert:hover {\n",
       "      background-color: #434B5C;\n",
       "      box-shadow: 0px 1px 3px 1px rgba(0, 0, 0, 0.15);\n",
       "      filter: drop-shadow(0px 1px 2px rgba(0, 0, 0, 0.3));\n",
       "      fill: #FFFFFF;\n",
       "    }\n",
       "  </style>\n",
       "\n",
       "    <script>\n",
       "      const buttonEl =\n",
       "        document.querySelector('#df-164cb97e-0e6c-44e9-93a7-b2446fe9c8ce button.colab-df-convert');\n",
       "      buttonEl.style.display =\n",
       "        google.colab.kernel.accessAllowed ? 'block' : 'none';\n",
       "\n",
       "      async function convertToInteractive(key) {\n",
       "        const element = document.querySelector('#df-164cb97e-0e6c-44e9-93a7-b2446fe9c8ce');\n",
       "        const dataTable =\n",
       "          await google.colab.kernel.invokeFunction('convertToInteractive',\n",
       "                                                    [key], {});\n",
       "        if (!dataTable) return;\n",
       "\n",
       "        const docLinkHtml = 'Like what you see? Visit the ' +\n",
       "          '<a target=\"_blank\" href=https://colab.research.google.com/notebooks/data_table.ipynb>data table notebook</a>'\n",
       "          + ' to learn more about interactive tables.';\n",
       "        element.innerHTML = '';\n",
       "        dataTable['output_type'] = 'display_data';\n",
       "        await google.colab.output.renderOutput(dataTable, element);\n",
       "        const docLink = document.createElement('div');\n",
       "        docLink.innerHTML = docLinkHtml;\n",
       "        element.appendChild(docLink);\n",
       "      }\n",
       "    </script>\n",
       "  </div>\n",
       "\n",
       "\n",
       "    <div id=\"df-bf415c77-3c4f-4e6a-8adf-94d757515708\">\n",
       "      <button class=\"colab-df-quickchart\" onclick=\"quickchart('df-bf415c77-3c4f-4e6a-8adf-94d757515708')\"\n",
       "                title=\"Suggest charts\"\n",
       "                style=\"display:none;\">\n",
       "\n",
       "<svg xmlns=\"http://www.w3.org/2000/svg\" height=\"24px\"viewBox=\"0 0 24 24\"\n",
       "     width=\"24px\">\n",
       "    <g>\n",
       "        <path d=\"M19 3H5c-1.1 0-2 .9-2 2v14c0 1.1.9 2 2 2h14c1.1 0 2-.9 2-2V5c0-1.1-.9-2-2-2zM9 17H7v-7h2v7zm4 0h-2V7h2v10zm4 0h-2v-4h2v4z\"/>\n",
       "    </g>\n",
       "</svg>\n",
       "      </button>\n",
       "\n",
       "<style>\n",
       "  .colab-df-quickchart {\n",
       "      --bg-color: #E8F0FE;\n",
       "      --fill-color: #1967D2;\n",
       "      --hover-bg-color: #E2EBFA;\n",
       "      --hover-fill-color: #174EA6;\n",
       "      --disabled-fill-color: #AAA;\n",
       "      --disabled-bg-color: #DDD;\n",
       "  }\n",
       "\n",
       "  [theme=dark] .colab-df-quickchart {\n",
       "      --bg-color: #3B4455;\n",
       "      --fill-color: #D2E3FC;\n",
       "      --hover-bg-color: #434B5C;\n",
       "      --hover-fill-color: #FFFFFF;\n",
       "      --disabled-bg-color: #3B4455;\n",
       "      --disabled-fill-color: #666;\n",
       "  }\n",
       "\n",
       "  .colab-df-quickchart {\n",
       "    background-color: var(--bg-color);\n",
       "    border: none;\n",
       "    border-radius: 50%;\n",
       "    cursor: pointer;\n",
       "    display: none;\n",
       "    fill: var(--fill-color);\n",
       "    height: 32px;\n",
       "    padding: 0;\n",
       "    width: 32px;\n",
       "  }\n",
       "\n",
       "  .colab-df-quickchart:hover {\n",
       "    background-color: var(--hover-bg-color);\n",
       "    box-shadow: 0 1px 2px rgba(60, 64, 67, 0.3), 0 1px 3px 1px rgba(60, 64, 67, 0.15);\n",
       "    fill: var(--button-hover-fill-color);\n",
       "  }\n",
       "\n",
       "  .colab-df-quickchart-complete:disabled,\n",
       "  .colab-df-quickchart-complete:disabled:hover {\n",
       "    background-color: var(--disabled-bg-color);\n",
       "    fill: var(--disabled-fill-color);\n",
       "    box-shadow: none;\n",
       "  }\n",
       "\n",
       "  .colab-df-spinner {\n",
       "    border: 2px solid var(--fill-color);\n",
       "    border-color: transparent;\n",
       "    border-bottom-color: var(--fill-color);\n",
       "    animation:\n",
       "      spin 1s steps(1) infinite;\n",
       "  }\n",
       "\n",
       "  @keyframes spin {\n",
       "    0% {\n",
       "      border-color: transparent;\n",
       "      border-bottom-color: var(--fill-color);\n",
       "      border-left-color: var(--fill-color);\n",
       "    }\n",
       "    20% {\n",
       "      border-color: transparent;\n",
       "      border-left-color: var(--fill-color);\n",
       "      border-top-color: var(--fill-color);\n",
       "    }\n",
       "    30% {\n",
       "      border-color: transparent;\n",
       "      border-left-color: var(--fill-color);\n",
       "      border-top-color: var(--fill-color);\n",
       "      border-right-color: var(--fill-color);\n",
       "    }\n",
       "    40% {\n",
       "      border-color: transparent;\n",
       "      border-right-color: var(--fill-color);\n",
       "      border-top-color: var(--fill-color);\n",
       "    }\n",
       "    60% {\n",
       "      border-color: transparent;\n",
       "      border-right-color: var(--fill-color);\n",
       "    }\n",
       "    80% {\n",
       "      border-color: transparent;\n",
       "      border-right-color: var(--fill-color);\n",
       "      border-bottom-color: var(--fill-color);\n",
       "    }\n",
       "    90% {\n",
       "      border-color: transparent;\n",
       "      border-bottom-color: var(--fill-color);\n",
       "    }\n",
       "  }\n",
       "</style>\n",
       "\n",
       "      <script>\n",
       "        async function quickchart(key) {\n",
       "          const quickchartButtonEl =\n",
       "            document.querySelector('#' + key + ' button');\n",
       "          quickchartButtonEl.disabled = true;  // To prevent multiple clicks.\n",
       "          quickchartButtonEl.classList.add('colab-df-spinner');\n",
       "          try {\n",
       "            const charts = await google.colab.kernel.invokeFunction(\n",
       "                'suggestCharts', [key], {});\n",
       "          } catch (error) {\n",
       "            console.error('Error during call to suggestCharts:', error);\n",
       "          }\n",
       "          quickchartButtonEl.classList.remove('colab-df-spinner');\n",
       "          quickchartButtonEl.classList.add('colab-df-quickchart-complete');\n",
       "        }\n",
       "        (() => {\n",
       "          let quickchartButtonEl =\n",
       "            document.querySelector('#df-bf415c77-3c4f-4e6a-8adf-94d757515708 button');\n",
       "          quickchartButtonEl.style.display =\n",
       "            google.colab.kernel.accessAllowed ? 'block' : 'none';\n",
       "        })();\n",
       "      </script>\n",
       "    </div>\n",
       "\n",
       "    </div>\n",
       "  </div>\n"
      ],
      "text/plain": [
       "   product_id                                       product_name  \\\n",
       "0  B07JW9H4J1  Wayona Nylon Braided USB to Lightning Fast Cha...   \n",
       "1  B098NS6PVG  Ambrane Unbreakable 60W / 3A Fast Charging 1.5...   \n",
       "2  B096MSW6CT  Sounce Fast Phone Charging Cable & Data Sync U...   \n",
       "3  B08HDJ86NZ  boAt Deuce USB 300 2 in 1 Type-C & Micro USB S...   \n",
       "4  B08CF3B7N1  Portronics Konnect L 1.2M Fast Charging 3A 8 P...   \n",
       "\n",
       "                                            category discounted_price  \\\n",
       "0  Computers&Accessories|Accessories&Peripherals|...             ₹399   \n",
       "1  Computers&Accessories|Accessories&Peripherals|...             ₹199   \n",
       "2  Computers&Accessories|Accessories&Peripherals|...             ₹199   \n",
       "3  Computers&Accessories|Accessories&Peripherals|...             ₹329   \n",
       "4  Computers&Accessories|Accessories&Peripherals|...             ₹154   \n",
       "\n",
       "  actual_price discount_percentage rating rating_count  \\\n",
       "0       ₹1,099                 64%    4.2       24,269   \n",
       "1         ₹349                 43%    4.0       43,994   \n",
       "2       ₹1,899                 90%    3.9        7,928   \n",
       "3         ₹699                 53%    4.2       94,363   \n",
       "4         ₹399                 61%    4.2       16,905   \n",
       "\n",
       "                                       about_product  \\\n",
       "0  High Compatibility : Compatible With iPhone 12...   \n",
       "1  Compatible with all Type C enabled devices, be...   \n",
       "2  【 Fast Charger& Data Sync】-With built-in safet...   \n",
       "3  The boAt Deuce USB 300 2 in 1 cable is compati...   \n",
       "4  [CHARGE & SYNC FUNCTION]- This cable comes wit...   \n",
       "\n",
       "                                             user_id  \\\n",
       "0  AG3D6O4STAQKAY2UVGEUV46KN35Q,AHMY5CWJMMK5BJRBB...   \n",
       "1  AECPFYFQVRUWC3KGNLJIOREFP5LQ,AGYYVPDD7YG7FYNBX...   \n",
       "2  AGU3BBQ2V2DDAMOAKGFAWDDQ6QHA,AESFLDV2PT363T2AQ...   \n",
       "3  AEWAZDZZJLQUYVOVGBEUKSLXHQ5A,AG5HTSFRRE6NL3M5S...   \n",
       "4  AE3Q6KSUK5P75D5HFYHCRAOLODSA,AFUGIFH5ZAFXRDSZH...   \n",
       "\n",
       "                                           user_name  \\\n",
       "0  Manav,Adarsh gupta,Sundeep,S.Sayeed Ahmed,jasp...   \n",
       "1  ArdKn,Nirbhay kumar,Sagar Viswanathan,Asp,Plac...   \n",
       "2  Kunal,Himanshu,viswanath,sai niharka,saqib mal...   \n",
       "3  Omkar dhale,JD,HEMALATHA,Ajwadh a.,amar singh ...   \n",
       "4  rahuls6099,Swasat Borah,Ajay Wadke,Pranali,RVK...   \n",
       "\n",
       "                                           review_id  \\\n",
       "0  R3HXWT0LRP0NMF,R2AJM3LFTLZHFO,R6AQJGUP6P86,R1K...   \n",
       "1  RGIQEG07R9HS2,R1SMWZQ86XIN8U,R2J3Y1WL29GWDE,RY...   \n",
       "2  R3J3EQQ9TZI5ZJ,R3E7WBGK7ID0KV,RWU79XKQ6I1QF,R2...   \n",
       "3  R3EEUZKKK9J36I,R3HJVYCLYOY554,REDECAZ7AMPQC,R1...   \n",
       "4  R1BP4L2HH9TFUP,R16PVJEXKV6QZS,R2UPDB81N66T4P,R...   \n",
       "\n",
       "                                        review_title  \\\n",
       "0  Satisfied,Charging is really fast,Value for mo...   \n",
       "1  A Good Braided Cable for Your Type C Device,Go...   \n",
       "2  Good speed for earlier versions,Good Product,W...   \n",
       "3  Good product,Good one,Nice,Really nice product...   \n",
       "4  As good as original,Decent,Good one for second...   \n",
       "\n",
       "                                      review_content  \\\n",
       "0  Looks durable Charging is fine tooNo complains...   \n",
       "1  I ordered this cable to connect my phone to An...   \n",
       "2  Not quite durable and sturdy,https://m.media-a...   \n",
       "3  Good product,long wire,Charges good,Nice,I bou...   \n",
       "4  Bought this instead of original apple, does th...   \n",
       "\n",
       "                                            img_link  \\\n",
       "0  https://m.media-amazon.com/images/W/WEBP_40237...   \n",
       "1  https://m.media-amazon.com/images/W/WEBP_40237...   \n",
       "2  https://m.media-amazon.com/images/W/WEBP_40237...   \n",
       "3  https://m.media-amazon.com/images/I/41V5FtEWPk...   \n",
       "4  https://m.media-amazon.com/images/W/WEBP_40237...   \n",
       "\n",
       "                                        product_link  \n",
       "0  https://www.amazon.in/Wayona-Braided-WN3LG1-Sy...  \n",
       "1  https://www.amazon.in/Ambrane-Unbreakable-Char...  \n",
       "2  https://www.amazon.in/Sounce-iPhone-Charging-C...  \n",
       "3  https://www.amazon.in/Deuce-300-Resistant-Tang...  \n",
       "4  https://www.amazon.in/Portronics-Konnect-POR-1...  "
      ]
     },
     "execution_count": 5,
     "metadata": {},
     "output_type": "execute_result"
    }
   ],
   "source": [
    "\n",
    "# Step 1: Install kagglehub if not already installed\n",
    "!pip install -q kagglehub\n",
    "\n",
    "# Step 2: Import the package\n",
    "import kagglehub\n",
    "import os\n",
    "import pandas as pd\n",
    "\n",
    "# Step 3: Download the dataset\n",
    "path = kagglehub.dataset_download(\"karkavelrajaj/amazon-sales-dataset\")\n",
    "print(\"Path to dataset files:\", path)\n",
    "\n",
    "# Step 4: List all files to identify the correct CSV file\n",
    "print(\"Files in dataset folder:\", os.listdir(path))\n",
    "\n",
    "# Step 5: Read the CSV file (adjust file name if different)\n",
    "csv_file = os.path.join(path, \"amazon.csv\")  # Replace with actual file name from Step 4 if needed\n",
    "amazon_df = pd.read_csv(csv_file)\n",
    "\n",
    "# Step 6: View a sample\n",
    "print(\"📦 Dataset Preview:\")\n",
    "amazon_df.head()\n"
   ]
  },
  {
   "cell_type": "markdown",
   "id": "71223d41",
   "metadata": {
    "id": "71223d41"
   },
   "source": [
    "### 📏 Checking Dataset Dimensions\n",
    "\n",
    "Displays the shape (rows, columns) of the loaded dataset to verify it was loaded correctly and contains sufficient data for analysis."
   ]
  },
  {
   "cell_type": "code",
   "execution_count": 6,
   "id": "i6rCY_p9IjKY",
   "metadata": {
    "colab": {
     "base_uri": "https://localhost:8080/"
    },
    "id": "i6rCY_p9IjKY",
    "outputId": "9d26bb8c-9f47-49ed-f65c-11d1fc5dc5ea"
   },
   "outputs": [
    {
     "data": {
      "text/plain": [
       "(1465, 16)"
      ]
     },
     "execution_count": 6,
     "metadata": {},
     "output_type": "execute_result"
    }
   ],
   "source": [
    "amazon_df.shape"
   ]
  },
  {
   "cell_type": "markdown",
   "id": "4e10933d",
   "metadata": {
    "id": "4e10933d"
   },
   "source": [
    "### 🔍 Inspect Dataset Structure and Types\n",
    "\n",
    "Uses `.info()` to summarize the dataset’s column names, types, and non-null counts. This helps validate the integrity of the raw product dataset."
   ]
  },
  {
   "cell_type": "code",
   "execution_count": 7,
   "id": "fVKLnUL4IpYN",
   "metadata": {
    "colab": {
     "base_uri": "https://localhost:8080/"
    },
    "id": "fVKLnUL4IpYN",
    "outputId": "6a0c871f-5a84-4711-d06b-072bb139b545"
   },
   "outputs": [
    {
     "name": "stdout",
     "output_type": "stream",
     "text": [
      "<class 'pandas.core.frame.DataFrame'>\n",
      "RangeIndex: 1465 entries, 0 to 1464\n",
      "Data columns (total 16 columns):\n",
      " #   Column               Non-Null Count  Dtype \n",
      "---  ------               --------------  ----- \n",
      " 0   product_id           1465 non-null   object\n",
      " 1   product_name         1465 non-null   object\n",
      " 2   category             1465 non-null   object\n",
      " 3   discounted_price     1465 non-null   object\n",
      " 4   actual_price         1465 non-null   object\n",
      " 5   discount_percentage  1465 non-null   object\n",
      " 6   rating               1465 non-null   object\n",
      " 7   rating_count         1463 non-null   object\n",
      " 8   about_product        1465 non-null   object\n",
      " 9   user_id              1465 non-null   object\n",
      " 10  user_name            1465 non-null   object\n",
      " 11  review_id            1465 non-null   object\n",
      " 12  review_title         1465 non-null   object\n",
      " 13  review_content       1465 non-null   object\n",
      " 14  img_link             1465 non-null   object\n",
      " 15  product_link         1465 non-null   object\n",
      "dtypes: object(16)\n",
      "memory usage: 183.3+ KB\n"
     ]
    }
   ],
   "source": [
    "amazon_df.info()"
   ]
  },
  {
   "cell_type": "markdown",
   "id": "b40a8fe4",
   "metadata": {
    "id": "b40a8fe4"
   },
   "source": [
    "### 🧾 Listing Column Names\n",
    "\n",
    "Prints the original column names of the dataset to guide which fields are kept, renamed, or transformed during preprocessing."
   ]
  },
  {
   "cell_type": "code",
   "execution_count": 8,
   "id": "3nGdEMtAIlss",
   "metadata": {
    "colab": {
     "base_uri": "https://localhost:8080/"
    },
    "id": "3nGdEMtAIlss",
    "outputId": "95b98b9b-27cb-4be3-8728-f58556f27185"
   },
   "outputs": [
    {
     "data": {
      "text/plain": [
       "Index(['product_id', 'product_name', 'category', 'discounted_price',\n",
       "       'actual_price', 'discount_percentage', 'rating', 'rating_count',\n",
       "       'about_product', 'user_id', 'user_name', 'review_id', 'review_title',\n",
       "       'review_content', 'img_link', 'product_link'],\n",
       "      dtype='object')"
      ]
     },
     "execution_count": 8,
     "metadata": {},
     "output_type": "execute_result"
    }
   ],
   "source": [
    "amazon_df.columns"
   ]
  },
  {
   "cell_type": "markdown",
   "id": "bb10dc78",
   "metadata": {
    "id": "bb10dc78"
   },
   "source": [
    "### 🧹 Data Cleaning and Column Renaming\n",
    "\n",
    "Selects and retains relevant columns for recommendation logic, such as `product_name`, `category`, `about_product`, `review_content`, etc. Then renames them to simpler forms like `product`, `description`, and `price`. Also normalizes the category to lowercase and resets the index."
   ]
  },
  {
   "cell_type": "code",
   "execution_count": 9,
   "id": "_LXbRpHNIXvO",
   "metadata": {
    "id": "_LXbRpHNIXvO"
   },
   "outputs": [],
   "source": [
    "# Keep and rename relevant columns\n",
    "amazon_df = amazon_df[['product_name', 'category', 'about_product', 'rating', 'actual_price', 'review_content']].dropna()\n",
    "amazon_df.rename(columns={\n",
    "    'product_name': 'product',\n",
    "    'about_product': 'description',\n",
    "    'average_rating': 'rating',\n",
    "    'actual_price': 'price',\n",
    "    'review_content': 'review'\n",
    "\n",
    "}, inplace=True)\n",
    "\n",
    "# Normalize category\n",
    "amazon_df['category'] = amazon_df['category'].str.lower()\n",
    "amazon_df.reset_index(drop=True, inplace=True)"
   ]
  },
  {
   "cell_type": "markdown",
   "id": "717ea0e9",
   "metadata": {
    "id": "717ea0e9"
   },
   "source": [
    "### 🏷️ Unique Category Extraction\n",
    "\n",
    "Displays all unique product categories in the dataset. This is useful to understand the scope of product domains available for personalization and filtering."
   ]
  },
  {
   "cell_type": "code",
   "execution_count": 10,
   "id": "scMcREo624qv",
   "metadata": {
    "colab": {
     "base_uri": "https://localhost:8080/"
    },
    "id": "scMcREo624qv",
    "outputId": "61497574-d6ec-406c-f17a-75173d8d1369"
   },
   "outputs": [
    {
     "name": "stdout",
     "output_type": "stream",
     "text": [
      "['computers&accessories|accessories&peripherals|cables&accessories|cables|usbcables'\n",
      " 'computers&accessories|networkingdevices|networkadapters|wirelessusbadapters'\n",
      " 'electronics|hometheater,tv&video|accessories|cables|hdmicables'\n",
      " 'electronics|hometheater,tv&video|televisions|smarttelevisions'\n",
      " 'electronics|hometheater,tv&video|accessories|remotecontrols'\n",
      " 'electronics|hometheater,tv&video|televisions|standardtelevisions'\n",
      " 'electronics|hometheater,tv&video|accessories|tvmounts,stands&turntables|tvwall&ceilingmounts'\n",
      " 'electronics|hometheater,tv&video|accessories|cables|rcacables'\n",
      " 'electronics|homeaudio|accessories|speakeraccessories|mounts'\n",
      " 'electronics|hometheater,tv&video|accessories|cables|opticalcables'\n",
      " 'electronics|hometheater,tv&video|projectors'\n",
      " 'electronics|homeaudio|accessories|adapters'\n",
      " 'electronics|hometheater,tv&video|satelliteequipment|satellitereceivers'\n",
      " 'computers&accessories|accessories&peripherals|cables&accessories|cables|dvicables'\n",
      " 'electronics|hometheater,tv&video|accessories|cables|speakercables'\n",
      " 'electronics|homeaudio|mediastreamingdevices|streamingclients'\n",
      " 'electronics|hometheater,tv&video|avreceivers&amplifiers'\n",
      " 'electronics|homeaudio|speakers|towerspeakers'\n",
      " 'electronics|hometheater,tv&video|accessories|3dglasses'\n",
      " 'electronics|wearabletechnology|smartwatches'\n",
      " 'electronics|mobiles&accessories|mobileaccessories|chargers|powerbanks'\n",
      " 'electronics|mobiles&accessories|smartphones&basicmobiles|smartphones'\n",
      " 'electronics|accessories|memorycards|microsd'\n",
      " 'electronics|mobiles&accessories|smartphones&basicmobiles|basicmobiles'\n",
      " 'electronics|headphones,earbuds&accessories|headphones|in-ear'\n",
      " 'electronics|mobiles&accessories|mobileaccessories|chargers|automobilechargers'\n",
      " 'electronics|mobiles&accessories|mobileaccessories|automobileaccessories|cradles'\n",
      " 'electronics|mobiles&accessories|mobileaccessories|chargers|wallchargers'\n",
      " 'electronics|mobiles&accessories|mobileaccessories|cables&adapters|otgadapters'\n",
      " 'electronics|mobiles&accessories|mobileaccessories|photo&videoaccessories|tripods'\n",
      " 'electronics|mobiles&accessories|mobileaccessories|photo&videoaccessories|selfiesticks'\n",
      " 'electronics|mobiles&accessories|mobileaccessories|stands'\n",
      " 'computers&accessories|accessories&peripherals|cables&accessories|cableconnectionprotectors'\n",
      " 'electronics|mobiles&accessories|mobileaccessories|décor'\n",
      " 'electronics|mobiles&accessories|mobileaccessories|maintenance,upkeep&repairs|screenprotectors'\n",
      " 'electronics|mobiles&accessories|mobileaccessories|styluspens'\n",
      " 'electronics|mobiles&accessories|mobileaccessories|mounts|bedstand&deskmounts'\n",
      " 'electronics|mobiles&accessories|mobileaccessories|cases&covers|basiccases'\n",
      " 'electronics|mobiles&accessories|mobileaccessories|mounts|handlebarmounts'\n",
      " 'electronics|headphones,earbuds&accessories|headphones|on-ear'\n",
      " 'computers&accessories|accessories&peripherals|laptopaccessories|cameraprivacycovers'\n",
      " 'electronics|headphones,earbuds&accessories|adapters'\n",
      " 'electronics|mobiles&accessories|mobileaccessories|décor|phonecharms'\n",
      " 'electronics|mobiles&accessories|mobileaccessories|mounts|shower&wallmounts'\n",
      " 'computers&accessories|externaldevices&datastorage|pendrives'\n",
      " 'computers&accessories|accessories&peripherals|keyboards,mice&inputdevices|mice'\n",
      " 'computers&accessories|accessories&peripherals|keyboards,mice&inputdevices|graphictablets'\n",
      " 'computers&accessories|accessories&peripherals|laptopaccessories|lapdesks'\n",
      " 'computers&accessories|accessories&peripherals|laptopaccessories|notebookcomputerstands'\n",
      " 'computers&accessories|accessories&peripherals|keyboards,mice&inputdevices|keyboards'\n",
      " 'musicalinstruments|microphones|condenser'\n",
      " 'electronics|generalpurposebatteries&batterychargers|disposablebatteries'\n",
      " 'officeproducts|officepaperproducts|paper|stationery|pens,pencils&writingsupplies|pens&refills|gelinkrollerballpens'\n",
      " 'home&kitchen|craftmaterials|scrapbooking|tape'\n",
      " 'computers&accessories|accessories&peripherals|keyboards,mice&inputdevices|keyboard&mousesets'\n",
      " 'computers&accessories|externaldevices&datastorage|externalharddisks'\n",
      " 'electronics|cameras&photography|videocameras'\n",
      " 'electronics|cameras&photography|accessories|tripods&monopods|tabletop&traveltripods'\n",
      " 'officeproducts|officeelectronics|calculators|scientific'\n",
      " 'computers&accessories|networkingdevices|repeaters&extenders'\n",
      " 'electronics|cameras&photography|accessories|tripods&monopods|tripodlegs'\n",
      " 'computers&accessories|printers,inks&accessories|inks,toners&cartridges|inkjetinkcartridges'\n",
      " 'computers&accessories|accessories&peripherals|keyboards,mice&inputdevices|keyboard&miceaccessories|dustcovers'\n",
      " 'computers&accessories|accessories&peripherals|pcgamingperipherals|gamingmice'\n",
      " 'home&kitchen|craftmaterials|paintingmaterials|paints'\n",
      " 'computers&accessories|accessories&peripherals|keyboards,mice&inputdevices|keyboard&miceaccessories|mousepads'\n",
      " 'computers&accessories|accessories&peripherals|harddiskbags'\n",
      " 'electronics|cameras&photography|flashes|macro&ringlightflashes'\n",
      " 'computers&accessories|networkingdevices'\n",
      " 'computers&accessories|networkingdevices|routers'\n",
      " 'electronics|headphones,earbuds&accessories|headphones|over-ear'\n",
      " 'electronics|homeaudio|speakers|bluetoothspeakers'\n",
      " 'electronics|generalpurposebatteries&batterychargers'\n",
      " 'officeproducts|officepaperproducts|paper|stationery|notebooks,writingpads&diaries|wireboundnotebooks'\n",
      " 'electronics|generalpurposebatteries&batterychargers|rechargeablebatteries'\n",
      " 'computers&accessories|networkingdevices|networkadapters|bluetoothadapters'\n",
      " 'computers&accessories|accessories&peripherals|adapters|usbtousbadapters'\n",
      " 'electronics|cameras&photography|accessories|tripods&monopods|completetripodunits'\n",
      " 'officeproducts|officepaperproducts|paper|stationery|notebooks,writingpads&diaries|notepads&memobooks'\n",
      " 'electronics|cameras&photography|accessories|film'\n",
      " 'computers&accessories|monitors'\n",
      " 'computers&accessories|accessories&peripherals|usbgadgets|lamps'\n",
      " 'electronics|cameras&photography|accessories|cleaners|cleaningkits'\n",
      " 'electronics|cameras&photography|securitycameras|domecameras'\n",
      " 'computers&accessories|accessories&peripherals|tabletaccessories|screenprotectors'\n",
      " 'computers&accessories|accessories&peripherals|pcgamingperipherals|gamepads'\n",
      " 'officeproducts|officeelectronics|calculators|basic'\n",
      " 'computers&accessories|accessories&peripherals|usbhubs'\n",
      " 'computers&accessories|accessories&peripherals|audio&videoaccessories|pcmicrophones'\n",
      " 'electronics|homeaudio|speakers|outdoorspeakers'\n",
      " 'computers&accessories|accessories&peripherals|laptopaccessories|bags&sleeves|laptopsleeves&slipcases'\n",
      " 'computers&accessories|externaldevices&datastorage|externalmemorycardreaders'\n",
      " 'officeproducts|officepaperproducts|paper|stationery|pens,pencils&writingsupplies|pens&refills|bottledink'\n",
      " 'officeproducts|officepaperproducts|paper|stationery|notebooks,writingpads&diaries|compositionnotebooks'\n",
      " 'officeproducts|officepaperproducts|paper|stationery|pens,pencils&writingsupplies|pens&refills|retractableballpointpens'\n",
      " 'computers&accessories|accessories&peripherals|cables&accessories|cables|ethernetcables'\n",
      " 'computers&accessories|components|memory'\n",
      " 'computers&accessories|accessories&peripherals|uninterruptedpowersupplies'\n",
      " 'electronics|headphones,earbuds&accessories|cases'\n",
      " 'electronics|accessories|memorycards|securedigitalcards'\n",
      " 'electronics|mobiles&accessories|mobileaccessories|photo&videoaccessories|flashes&selfielights|selfielights'\n",
      " 'computers&accessories|accessories&peripherals|audio&videoaccessories|webcams&voipequipment|webcams'\n",
      " 'computers&accessories|accessories&peripherals|laptopaccessories|coolingpads'\n",
      " 'computers&accessories|accessories&peripherals|laptopaccessories'\n",
      " 'computers&accessories|accessories&peripherals|tabletaccessories|stands'\n",
      " 'homeimprovement|electrical|adapters&multi-outlets'\n",
      " 'officeproducts|officepaperproducts|paper|copy&printingpaper|colouredpaper'\n",
      " 'computers&accessories|components|internalsolidstatedrives'\n",
      " 'electronics|homeaudio|speakers|multimediaspeakersystems'\n",
      " 'computers&accessories|networkingdevices|datacards&dongles'\n",
      " 'computers&accessories|accessories&peripherals|laptopaccessories|laptopchargers&powersupplies'\n",
      " 'computers&accessories|accessories&peripherals|audio&videoaccessories|pcspeakers'\n",
      " 'electronics|cameras&photography|accessories|batteries&chargers|batterychargers'\n",
      " 'computers&accessories|accessories&peripherals|tabletaccessories|bags,cases&sleeves|cases'\n",
      " 'officeproducts|officepaperproducts|paper|stationery|pens,pencils&writingsupplies|pens&refills|stickballpointpens'\n",
      " 'home&kitchen|craftmaterials|drawingmaterials|drawingmedia|pencils|woodenpencils'\n",
      " 'computers&accessories|components|internalharddrives'\n",
      " 'computers&accessories|printers,inks&accessories|printers'\n",
      " 'home&kitchen|craftmaterials|drawingmaterials|drawingmedia|pens'\n",
      " 'computers&accessories|accessories&peripherals|cables&accessories|cables|satacables'\n",
      " 'computers&accessories|accessories&peripherals|audio&videoaccessories|pcheadsets'\n",
      " 'computers&accessories|accessories&peripherals|pcgamingperipherals|gamingkeyboards'\n",
      " 'electronics|homeaudio|speakers|soundbarspeakers'\n",
      " 'electronics|headphones,earbuds&accessories|earpads'\n",
      " 'computers&accessories|printers,inks&accessories|printers|inkjetprinters'\n",
      " 'toys&games|arts&crafts|drawing&paintingsupplies|colouringpens&markers'\n",
      " 'computers&accessories|accessories&peripherals|pcgamingperipherals|headsets'\n",
      " 'computers&accessories|externaldevices&datastorage|externalsolidstatedrives'\n",
      " 'computers&accessories|networkingdevices|networkadapters|powerlanadapters'\n",
      " 'computers&accessories|printers,inks&accessories|inks,toners&cartridges|inkjetinkrefills&kits'\n",
      " 'officeproducts|officepaperproducts|paper|stationery|notebooks,writingpads&diaries'\n",
      " 'electronics|cameras&photography|accessories|photostudio&lighting|photobackgroundaccessories|backgroundsupports'\n",
      " 'officeproducts|officeelectronics|calculators|financial&business'\n",
      " 'electronics|poweraccessories|surgeprotectors'\n",
      " 'computers&accessories|tablets'\n",
      " 'homeimprovement|electrical|cordmanagement'\n",
      " 'home&kitchen|craftmaterials|paintingmaterials'\n",
      " 'computers&accessories|printers,inks&accessories|inks,toners&cartridges|tonercartridges'\n",
      " 'officeproducts|officepaperproducts|paper|stationery|pens,pencils&writingsupplies|pens&refills|liquidinkrollerballpens'\n",
      " 'officeproducts|officepaperproducts|paper|stationery|pens,pencils&writingsupplies|pens&refills|fountainpens'\n",
      " 'computers&accessories|accessories&peripherals|harddriveaccessories|caddies'\n",
      " 'computers&accessories|laptops|traditionallaptops'\n",
      " 'home&kitchen|kitchen&homeappliances|smallkitchenappliances|kettles&hotwaterdispensers|electrickettles'\n",
      " 'home&kitchen|heating,cooling&airquality|roomheaters|electricheaters'\n",
      " 'home&kitchen|heating,cooling&airquality|roomheaters|fanheaters'\n",
      " 'home&kitchen|kitchen&homeappliances|vacuum,cleaning&ironing|irons,steamers&accessories|lintshavers'\n",
      " 'home&kitchen|kitchen&homeappliances|smallkitchenappliances|digitalkitchenscales'\n",
      " 'home&kitchen|kitchen&dining|kitchentools|manualchoppers&chippers|choppers'\n",
      " 'home&kitchen|kitchen&homeappliances|smallkitchenappliances|inductioncooktop'\n",
      " 'home&kitchen|kitchen&homeappliances|smallkitchenappliances|handblenders'\n",
      " 'home&kitchen|kitchen&homeappliances|vacuum,cleaning&ironing|irons,steamers&accessories|irons|dryirons'\n",
      " 'home&kitchen|kitchen&homeappliances|smallkitchenappliances|mixergrinders'\n",
      " 'home&kitchen|heating,cooling&airquality|waterheaters&geysers|instantwaterheaters'\n",
      " 'home&kitchen|heating,cooling&airquality|roomheaters'\n",
      " 'home&kitchen|kitchen&homeappliances|smallkitchenappliances|kettles&hotwaterdispensers|kettle&toastersets'\n",
      " 'home&kitchen|heating,cooling&airquality|waterheaters&geysers|storagewaterheaters'\n",
      " 'home&kitchen|heating,cooling&airquality|waterheaters&geysers|immersionrods'\n",
      " 'home&kitchen|kitchen&homeappliances|smallkitchenappliances|deepfatfryers|airfryers'\n",
      " 'home&kitchen|homestorage&organization|laundryorganization|laundrybaskets'\n",
      " 'home&kitchen|kitchen&homeappliances|vacuum,cleaning&ironing|irons,steamers&accessories|irons|steamirons'\n",
      " 'home&kitchen|kitchen&homeappliances|smallkitchenappliances|juicermixergrinders'\n",
      " 'home&kitchen|kitchen&homeappliances|vacuum,cleaning&ironing|vacuums&floorcare|vacuums|handheldvacuums'\n",
      " 'home&kitchen|kitchen&homeappliances|smallkitchenappliances|eggboilers'\n",
      " 'home&kitchen|kitchen&homeappliances|smallkitchenappliances|sandwichmakers'\n",
      " 'home&kitchen|kitchen&homeappliances|smallkitchenappliances|minifoodprocessors&choppers'\n",
      " 'home&kitchen|kitchen&homeappliances|smallkitchenappliances|digitalkitchenscales|digitalscales'\n",
      " 'home&kitchen|kitchen&homeappliances|smallkitchenappliances|vacuumsealers'\n",
      " 'home&kitchen|heating,cooling&airquality|fans|ceilingfans'\n",
      " 'home&kitchen|kitchen&homeappliances|vacuum,cleaning&ironing|vacuums&floorcare|vacuums|canistervacuums'\n",
      " 'home&kitchen|kitchen&homeappliances|vacuum,cleaning&ironing|pressurewashers,steam&windowcleaners'\n",
      " 'home&kitchen|heating,cooling&airquality|roomheaters|halogenheaters'\n",
      " 'home&kitchen|kitchen&homeappliances|smallkitchenappliances|pop-uptoasters'\n",
      " 'home&kitchen|heating,cooling&airquality|roomheaters|heatconvectors'\n",
      " 'home&kitchen|kitchen&homeappliances|coffee,tea&espresso|coffeegrinders|electricgrinders'\n",
      " 'home&kitchen|heating,cooling&airquality|fans|exhaustfans'\n",
      " 'home&kitchen|kitchen&homeappliances|coffee,tea&espresso|dripcoffeemachines'\n",
      " 'home&kitchen|kitchen&homeappliances|waterpurifiers&accessories|waterpurifieraccessories'\n",
      " 'home&kitchen|kitchen&homeappliances|waterpurifiers&accessories|watercartridges'\n",
      " 'home&kitchen|kitchen&homeappliances|smallkitchenappliances|rice&pastacookers'\n",
      " 'car&motorbike|caraccessories|interioraccessories|airpurifiers&ionizers'\n",
      " 'home&kitchen|kitchen&homeappliances|vacuum,cleaning&ironing|vacuums&floorcare|vacuums|wet-dryvacuums'\n",
      " 'home&kitchen|heating,cooling&airquality|airpurifiers|hepaairpurifiers'\n",
      " 'home&kitchen|kitchen&homeappliances|waterpurifiers&accessories|waterfilters&purifiers'\n",
      " 'home&kitchen|homestorage&organization|laundryorganization|laundrybags'\n",
      " 'home&kitchen|kitchen&homeappliances|sewingmachines&accessories|sewing&embroiderymachines'\n",
      " 'home&kitchen|homestorage&organization|laundryorganization|ironingaccessories|spraybottles'\n",
      " 'home&kitchen|kitchen&homeappliances|smallkitchenappliances|handmixers'\n",
      " 'home&kitchen|kitchen&homeappliances|smallkitchenappliances|mills&grinders|wetgrinders'\n",
      " 'home&kitchen|kitchen&homeappliances|smallkitchenappliances|oventoastergrills'\n",
      " 'home&kitchen|kitchen&homeappliances|smallkitchenappliances|juicers'\n",
      " 'home&kitchen|kitchen&homeappliances|smallkitchenappliances'\n",
      " 'health&personalcare|homemedicalsupplies&equipment|healthmonitors|weighingscales|digitalbathroomscales'\n",
      " 'home&kitchen|kitchen&homeappliances|coffee,tea&espresso|espressomachines'\n",
      " 'home&kitchen|heating,cooling&airquality|fans|tablefans'\n",
      " 'home&kitchen|kitchen&homeappliances|coffee,tea&espresso|milkfrothers'\n",
      " 'home&kitchen|heating,cooling&airquality|humidifiers'\n",
      " 'home&kitchen|kitchen&homeappliances|smallkitchenappliances|smallapplianceparts&accessories|standmixeraccessories'\n",
      " 'home&kitchen|kitchen&homeappliances|vacuum,cleaning&ironing|vacuums&floorcare|vacuums|roboticvacuums'\n",
      " 'home&kitchen|kitchen&homeappliances|smallkitchenappliances|yogurtmakers'\n",
      " 'home&kitchen|kitchen&homeappliances|smallkitchenappliances|juicers|coldpressjuicers'\n",
      " 'home&kitchen|heating,cooling&airquality|airconditioners|split-systemairconditioners'\n",
      " 'home&kitchen|kitchen&homeappliances|smallkitchenappliances|smallapplianceparts&accessories'\n",
      " 'home&kitchen|kitchen&homeappliances|smallkitchenappliances|wafflemakers&irons'\n",
      " 'home&kitchen|kitchen&homeappliances|coffee,tea&espresso|stovetopespressopots'\n",
      " 'home&kitchen|kitchen&homeappliances|coffee,tea&espresso|coffeemakeraccessories|measuringspoons'\n",
      " 'home&kitchen|kitchen&homeappliances|coffee,tea&espresso|coffeepresses'\n",
      " 'home&kitchen|kitchen&homeappliances|smallkitchenappliances|rotimakers'\n",
      " 'home&kitchen|heating,cooling&airquality|parts&accessories|fanparts&accessories'\n",
      " 'home&kitchen|kitchen&homeappliances|smallkitchenappliances|standmixers'\n",
      " 'home&kitchen|heating,cooling&airquality|fans|pedestalfans'\n",
      " 'home&kitchen|kitchen&homeappliances|vacuum,cleaning&ironing|vacuums&floorcare|vacuumaccessories|vacuumbags|handheldbags']\n"
     ]
    }
   ],
   "source": [
    "unique_values_category = amazon_df['category'].unique()\n",
    "print(unique_values_category)"
   ]
  },
  {
   "cell_type": "markdown",
   "id": "6ggyzMye3zGj",
   "metadata": {
    "id": "6ggyzMye3zGj"
   },
   "source": [
    "##### ******************keeping the 1st string as category"
   ]
  },
  {
   "cell_type": "markdown",
   "id": "9ffd589d",
   "metadata": {
    "id": "9ffd589d"
   },
   "source": [
    "### 🧪 Category Normalization (Handling Pipe Separator)\n",
    "\n",
    "Cleans multi-valued categories by splitting at the `|` symbol and keeping the first value. Trims whitespace and prints cleaned unique categories to ensure consistency."
   ]
  },
  {
   "cell_type": "code",
   "execution_count": 11,
   "id": "XnxnLT4P35Ef",
   "metadata": {
    "colab": {
     "base_uri": "https://localhost:8080/"
    },
    "id": "XnxnLT4P35Ef",
    "outputId": "8f555ea5-638e-4594-ce28-db219cb14d51"
   },
   "outputs": [
    {
     "name": "stdout",
     "output_type": "stream",
     "text": [
      "Unique categories after splitting:\n",
      "['computers&accessories' 'electronics' 'musicalinstruments'\n",
      " 'officeproducts' 'home&kitchen' 'homeimprovement' 'toys&games'\n",
      " 'car&motorbike' 'health&personalcare']\n"
     ]
    }
   ],
   "source": [
    "# Apply the split operation and take the first element\n",
    "amazon_df['category'] = amazon_df['category'].str.split('|').str[0]\n",
    "\n",
    "# Optional: Remove leading/trailing whitespace after splitting\n",
    "amazon_df['category'] = amazon_df['category'].str.strip()\n",
    "\n",
    "# Optional: Print unique values again to verify\n",
    "print(\"Unique categories after splitting:\")\n",
    "print(amazon_df['category'].unique())"
   ]
  },
  {
   "cell_type": "markdown",
   "id": "QrZLB3Ij4DBl",
   "metadata": {
    "id": "QrZLB3Ij4DBl"
   },
   "source": [
    "##### ******************keeping the 1st string as category"
   ]
  },
  {
   "cell_type": "markdown",
   "id": "1177c107",
   "metadata": {
    "id": "1177c107"
   },
   "source": [
    "### ✅ Defining Allowed Product Categories\n",
    "\n",
    "Lists a fixed set of valid product categories for the shopping assistant. This helps avoid hallucinations and ensures recommendations stay within known bounds."
   ]
  },
  {
   "cell_type": "code",
   "execution_count": 12,
   "id": "7ctscx2b6U19",
   "metadata": {
    "id": "7ctscx2b6U19"
   },
   "outputs": [],
   "source": [
    "allowed_categories = ['computers&accessories','electronics','musicalinstruments',\n",
    " 'officeproducts','home&kitchen','homeimprovement','toys&games','car&motorbike',\n",
    " 'health&personalcare'\n",
    " ]"
   ]
  },
  {
   "cell_type": "markdown",
   "id": "62f03840",
   "metadata": {
    "id": "62f03840"
   },
   "source": [
    "## Step 6: Initialize Sentence Transformer and Category Embeddings"
   ]
  },
  {
   "cell_type": "markdown",
   "id": "64ce1632",
   "metadata": {
    "id": "64ce1632"
   },
   "source": [
    "### 🧠 Category Embedding & Similarity Match\n",
    "\n",
    "Uses the `SentenceTransformer` model to embed allowed categories and compute cosine similarity with the query. This helps map vague or misspelled inputs to a known category using semantic similarity."
   ]
  },
  {
   "cell_type": "code",
   "execution_count": 13,
   "id": "8def65e3",
   "metadata": {
    "colab": {
     "base_uri": "https://localhost:8080/",
     "height": 493,
     "referenced_widgets": [
      "9d3cb1d695dd44bc8744b57039aebb00",
      "c45223adbb1e4024b9968953383ae95b",
      "b87e429b275d4db7bde617c698e65f12",
      "6b7f31f548834ffa9e6ee55a9d27508b",
      "19617c83f4004f17845b2404f744e20c",
      "6c7c09158642499cb7e16d9da5ff49ff",
      "ae92fc0f1a064ec6bb0261c61a7ae2cc",
      "451fe3a05d00439abdb5e9104d417399",
      "64fe163b2f604b7d927422d45b619068",
      "4a32dd0ef1954ef69827a715e0d3f0ec",
      "fd3c563502c84d3b9e8e809aeaa317ef",
      "5da6cd09923b482b88c81cf7138e6dfd",
      "8a9fb01c8f654ee68409957ae0d628f8",
      "f4ace84d77c84e16aa758455c1ba31c1",
      "639664a00acc45f595326379e53dda55",
      "9928843387484ab983e543d80d492b61",
      "7ecd9ec58ba646c5976888cc75f1e49b",
      "1b52737f3c9b441e999ffb7494bf4d11",
      "d982e6a16f2348b5844e69bc9e8c363e",
      "f7ec617dffb6438aac56064ec7d1bc11",
      "60a61dd83e0a489399c1527ab561cdd3",
      "c4041127a37e4bc8b6d34f661887d4e7",
      "1974e73072f2449d8c9a7e00ba506bac",
      "4155b7a683034e9f8f7ab98e0eccfe78",
      "4739dbae7807456394fcebee18c6532d",
      "44f39e9d74f74c6dabd24683a11ddc28",
      "5756e4c9f6f1493881e4ddaa089549f5",
      "7d91d24219e64ab5b575f726de7cab6e",
      "cf403a8782174cfbb8cc5c9485ea2772",
      "9a788b3bfb4144a28337faa706e55395",
      "1fe2b6f0fa504091a6bfa47524195853",
      "60bfb76b01904890aac4b1fdf9daa707",
      "43a8f0cb9f4848a882e7d365668298f2",
      "d7dee588e43b40bf99cae6a494fe3937",
      "570b73c4b40f46e8b44ddb9684424fc3",
      "f6196b6117214e67bf02e33f32831b3e",
      "ae34ee5999d74aec87fd15b0e6a9f294",
      "bfb3ed265637452c94b687a79e9f76ed",
      "ff8e2638a6214d72bf4bb38de7dd7614",
      "f1891d3fb1f84585a477246f7b4afab2",
      "6ca8de28203a4231b4571a82edbe4e92",
      "55af7001d2bc4f9cadb707268a2135e0",
      "24c37a998fba40998d1d9d545f81d2e5",
      "3f65434f0ed84276a4c669273577a043",
      "a25e6dc78166494b86194a1178615ff5",
      "0dfa4a7d231a429d8b6fbfd7179f605e",
      "ccabc864297849ccbd2a0cbd4b61fa9d",
      "cd324f962ede4458a946f2a9c1d85096",
      "50228d69a038489c8a3b934d11a879ea",
      "a65e41885212408ab90b8e402a0c319d",
      "00463d9ab4604a47b06514b81ab40058",
      "c3a841225181450cbe39e419d231239a",
      "ca0bc909816a49a88ace0117d47f3a64",
      "81ae3dec6f53446b8c2fdf150668125f",
      "81ce8aecb9744c2199e25124ca904018",
      "003572fa9eac4771a089b5dd4011c203",
      "b2b6d43930704ff297b89758c505a3b8",
      "e75acb4db6be4c62a61f5dfc565a1954",
      "61a595148c2f480ab1eb152bd68d903b",
      "fbca1519430845c391709083b7b195d1",
      "75c0ad7e719d43e69a7375d1599850c6",
      "5be94f8332734a14807e21e6d426f643",
      "b73ac93e7d0c43a29d3cd40a979cb6d6",
      "ac8a0315599342c3baf01cc777c9aa1d",
      "c0454366da024b5fbce26e0bd351dd99",
      "8361799dfdd94bebac390287f889c0e8",
      "ba27ccc2a0ce43e8bbc2fa75de9ac6e5",
      "16132556670d41e6a17aa220469cb2f7",
      "52a2034b041840f5baf487a4c4afffbf",
      "e21c33b62b244f8ebff5ef32e3df0f83",
      "9d9887bd6bc444b9ad0a7f5e2de81bc8",
      "640cfdda3b284bb0bb9c558452515bc2",
      "1c6c950abfba4bdb8766f61cef704c4b",
      "51fc62be3d334a689c97569b9320d35e",
      "8e07c338536f44faa0877f6fbb381736",
      "6da7d3f4099a4975b13216e19becd282",
      "d9c0241907254228920991dfc20e9a00",
      "0371312f5a6b4b358e3f45c8323b9c81",
      "cfc77c0f76334c1fbcf3d6a4969bbe68",
      "ad822188e50d47bfb1c7c0640eba45b4",
      "59b9308581ee4627b77a5d39b1163527",
      "33bebb3b7dd84150a3d1141fe22b6129",
      "b88f79f79461491caca191eb107dfbf5",
      "9db721cc16ae4780aa19da5566f785fc",
      "9959a4dbc2364a1dafaafc3d3654a995",
      "d1ecd35bb3714915913504cbb80569ad",
      "c65b513eb44b4c4a8f3921944672e2fa",
      "d2266f0a6be648398cdbd99ca485c521",
      "de83b77a887b4da2928185bc36d7ac72",
      "9193e9dd80ad4920a7c9ea0a24e7b486",
      "67bf180b5c5d478a8a3d4f656daef36f",
      "18820f605fc54c398dbf9299eb2699d4",
      "ff1227951bd54a97aaa9d35b8ec87681",
      "124cb1f941d74b66abe07282121bb0c8",
      "7bada8750e944cb5a7851fd410d21e90",
      "b13a528a74c8428f845c13ee66a5c7e8",
      "7a9a0c34a0bf42e99561e6d8dfa23e25",
      "4e2d1a022b194c2c8176b0993756ebb3",
      "0c8c922045c44829a1a682702f71a22d",
      "f2effd6b31d24d4c9caaf3825e0e040e",
      "1d903ef1ecc3428e8c363853cc07d37f",
      "bd44947bf4b5498b9476ce7f020a3afa",
      "3598133358684e959c1b018a6fada68d",
      "b935cfdee9d34dd48e69d5722f367fea",
      "2f42ba5f82c84748b8a72f5be9402d56",
      "61e661f30e69417da76f104562b60388",
      "29936de68bd748339b15d1bdbd460783",
      "97a8b09396a94153b54909b2fa88d054",
      "2f1d032fa77642eb8842e0d745f3420b",
      "de08804e841a44b9bfd82b8f7c1417f4",
      "014bd628334a489796f70579d2495b44",
      "30594f2ca48f487c8a44d02ff1589264",
      "b60c435eedd946cd92ea9abb907e90a4",
      "2c6069cc492e46288895e631eaee5504",
      "e8050d673a264c599a97755e52d2f22c",
      "1a2925e9ebb641ddad37b79f56438463",
      "2cd7db7374e3463289f3a6437d3f405d",
      "b97beeae50624dfb83e21debe09ee67b",
      "af9e49fb0d634438a878bbc6bf609aff",
      "9b0c565e39d64f9b9f137532627c64a2",
      "4d5e7bf9d65a4a97bb262225e8cc613f"
     ]
    },
    "id": "8def65e3",
    "outputId": "ddbbeede-40f6-43dd-faeb-e1b2f66e3cde"
   },
   "outputs": [
    {
     "name": "stderr",
     "output_type": "stream",
     "text": [
      "/usr/local/lib/python3.11/dist-packages/huggingface_hub/utils/_auth.py:94: UserWarning: \n",
      "The secret `HF_TOKEN` does not exist in your Colab secrets.\n",
      "To authenticate with the Hugging Face Hub, create a token in your settings tab (https://huggingface.co/settings/tokens), set it as secret in your Google Colab and restart your session.\n",
      "You will be able to reuse this secret in all of your notebooks.\n",
      "Please note that authentication is recommended but still optional to access public models or datasets.\n",
      "  warnings.warn(\n"
     ]
    },
    {
     "data": {
      "application/vnd.jupyter.widget-view+json": {
       "model_id": "9d3cb1d695dd44bc8744b57039aebb00",
       "version_major": 2,
       "version_minor": 0
      },
      "text/plain": [
       "modules.json:   0%|          | 0.00/349 [00:00<?, ?B/s]"
      ]
     },
     "metadata": {},
     "output_type": "display_data"
    },
    {
     "data": {
      "application/vnd.jupyter.widget-view+json": {
       "model_id": "5da6cd09923b482b88c81cf7138e6dfd",
       "version_major": 2,
       "version_minor": 0
      },
      "text/plain": [
       "config_sentence_transformers.json:   0%|          | 0.00/116 [00:00<?, ?B/s]"
      ]
     },
     "metadata": {},
     "output_type": "display_data"
    },
    {
     "data": {
      "application/vnd.jupyter.widget-view+json": {
       "model_id": "1974e73072f2449d8c9a7e00ba506bac",
       "version_major": 2,
       "version_minor": 0
      },
      "text/plain": [
       "README.md:   0%|          | 0.00/10.5k [00:00<?, ?B/s]"
      ]
     },
     "metadata": {},
     "output_type": "display_data"
    },
    {
     "data": {
      "application/vnd.jupyter.widget-view+json": {
       "model_id": "d7dee588e43b40bf99cae6a494fe3937",
       "version_major": 2,
       "version_minor": 0
      },
      "text/plain": [
       "sentence_bert_config.json:   0%|          | 0.00/53.0 [00:00<?, ?B/s]"
      ]
     },
     "metadata": {},
     "output_type": "display_data"
    },
    {
     "data": {
      "application/vnd.jupyter.widget-view+json": {
       "model_id": "a25e6dc78166494b86194a1178615ff5",
       "version_major": 2,
       "version_minor": 0
      },
      "text/plain": [
       "config.json:   0%|          | 0.00/612 [00:00<?, ?B/s]"
      ]
     },
     "metadata": {},
     "output_type": "display_data"
    },
    {
     "data": {
      "application/vnd.jupyter.widget-view+json": {
       "model_id": "003572fa9eac4771a089b5dd4011c203",
       "version_major": 2,
       "version_minor": 0
      },
      "text/plain": [
       "model.safetensors:   0%|          | 0.00/90.9M [00:00<?, ?B/s]"
      ]
     },
     "metadata": {},
     "output_type": "display_data"
    },
    {
     "data": {
      "application/vnd.jupyter.widget-view+json": {
       "model_id": "ba27ccc2a0ce43e8bbc2fa75de9ac6e5",
       "version_major": 2,
       "version_minor": 0
      },
      "text/plain": [
       "tokenizer_config.json:   0%|          | 0.00/350 [00:00<?, ?B/s]"
      ]
     },
     "metadata": {},
     "output_type": "display_data"
    },
    {
     "data": {
      "application/vnd.jupyter.widget-view+json": {
       "model_id": "0371312f5a6b4b358e3f45c8323b9c81",
       "version_major": 2,
       "version_minor": 0
      },
      "text/plain": [
       "vocab.txt:   0%|          | 0.00/232k [00:00<?, ?B/s]"
      ]
     },
     "metadata": {},
     "output_type": "display_data"
    },
    {
     "data": {
      "application/vnd.jupyter.widget-view+json": {
       "model_id": "de83b77a887b4da2928185bc36d7ac72",
       "version_major": 2,
       "version_minor": 0
      },
      "text/plain": [
       "tokenizer.json:   0%|          | 0.00/466k [00:00<?, ?B/s]"
      ]
     },
     "metadata": {},
     "output_type": "display_data"
    },
    {
     "data": {
      "application/vnd.jupyter.widget-view+json": {
       "model_id": "f2effd6b31d24d4c9caaf3825e0e040e",
       "version_major": 2,
       "version_minor": 0
      },
      "text/plain": [
       "special_tokens_map.json:   0%|          | 0.00/112 [00:00<?, ?B/s]"
      ]
     },
     "metadata": {},
     "output_type": "display_data"
    },
    {
     "data": {
      "application/vnd.jupyter.widget-view+json": {
       "model_id": "014bd628334a489796f70579d2495b44",
       "version_major": 2,
       "version_minor": 0
      },
      "text/plain": [
       "config.json:   0%|          | 0.00/190 [00:00<?, ?B/s]"
      ]
     },
     "metadata": {},
     "output_type": "display_data"
    }
   ],
   "source": [
    "model = SentenceTransformer('all-MiniLM-L6-v2')\n",
    "category_embeddings = model.encode(allowed_categories)\n",
    "\n",
    "def closest_category(query):\n",
    "    query_emb = model.encode([query])[0]\n",
    "    scores = np.dot(category_embeddings, query_emb)\n",
    "    best_index = int(np.argmax(scores))\n",
    "    return allowed_categories[best_index]"
   ]
  },
  {
   "cell_type": "markdown",
   "id": "2cafc228",
   "metadata": {
    "id": "2cafc228"
   },
   "source": [
    "## Step 7: Simulate User Preferences Based on Purchase History"
   ]
  },
  {
   "cell_type": "markdown",
   "id": "555da0fc",
   "metadata": {
    "id": "555da0fc"
   },
   "source": [
    "### 📋 Defining Sample User History\n",
    "\n",
    "Creates a sample user preference DataFrame with previous purchases. Extracts and ranks preferred categories based on frequency to simulate personalization."
   ]
  },
  {
   "cell_type": "code",
   "execution_count": 14,
   "id": "14c72b9d",
   "metadata": {
    "id": "14c72b9d"
   },
   "outputs": [],
   "source": [
    "user_history_df = pd.DataFrame({\n",
    "    \"user_id\": [1, 1, 1],\n",
    "    \"product\": [\"smartwatches\", \"juicers\", \"keyboards\"],\n",
    "    \"category\": [\"electronics\", \"home&kitchen\", \"computers&accessories\"]\n",
    "})\n",
    "\n",
    "preferred_categories = user_history_df['category'].value_counts().index.tolist()\n",
    "preference_summary = \", \".join(preferred_categories)"
   ]
  },
  {
   "cell_type": "markdown",
   "id": "c800ef30",
   "metadata": {
    "id": "c800ef30"
   },
   "source": [
    "## Step 8: FAISS Search with Embedding of Static Dataset"
   ]
  },
  {
   "cell_type": "markdown",
   "id": "69567666",
   "metadata": {
    "id": "69567666"
   },
   "source": [
    "### 🔎 Product Similarity Search with FAISS\n",
    "\n",
    "Encodes product text (title + description), builds a FAISS index, and retrieves top-K similar products based on the user query. This allows efficient vector-based retrieval."
   ]
  },
  {
   "cell_type": "code",
   "execution_count": 15,
   "id": "2eaa3c9b",
   "metadata": {
    "id": "2eaa3c9b"
   },
   "outputs": [],
   "source": [
    "def retrieve_similar_products(user_query, product_df, k=5):\n",
    "    product_texts = (product_df['product'] + \" \" + product_df['description']).tolist()\n",
    "    product_embeddings = model.encode(product_texts).astype(\"float32\")\n",
    "\n",
    "    dim = product_embeddings.shape[1]\n",
    "    index = faiss.IndexFlatL2(dim)\n",
    "    index.add(product_embeddings)\n",
    "\n",
    "    query_embedding = model.encode([user_query]).astype(\"float32\")\n",
    "    distances, indices = index.search(query_embedding, k)\n",
    "\n",
    "    return product_df.iloc[indices[0]]"
   ]
  },
  {
   "cell_type": "markdown",
   "id": "75fcb559",
   "metadata": {
    "id": "75fcb559"
   },
   "source": [
    "## Step 9: Gemini Response with Personalization + Category Check"
   ]
  },
  {
   "cell_type": "markdown",
   "id": "3c99dfde",
   "metadata": {
    "id": "3c99dfde"
   },
   "source": [
    "### 🧠 Generate Gemini Flash Prompt with Context\n",
    "\n",
    "Creates a prompt for Gemini using user preferences and retrieved products. The prompt is designed to guide the LLM in generating helpful, tailored shopping advice."
   ]
  },
  {
   "cell_type": "code",
   "execution_count": 16,
   "id": "30c74b14",
   "metadata": {
    "id": "30c74b14"
   },
   "outputs": [],
   "source": [
    "gemini = GenerativeModel(model_name=\"gemini-2.0-flash-lite-001\")\n",
    "\n",
    "def generate_gemini_flash_response(user_query, retrieved_df):\n",
    "    product_info = \"\\n\".join([\n",
    "        f\"- {row['product']} ({row['category']}): ${row['price']}, Rating: {row.get('rating', 'NA')}\"\n",
    "        for _, row in retrieved_df.iterrows()\n",
    "    ])\n",
    "\n",
    "    user_profile_context = f\"User has shown interest in: {preference_summary}\"\n",
    "\n",
    "    prompt = f\"\"\"\n",
    "You are a helpful shopping assistant. Use the user's past preferences to guide your recommendations.\n",
    "\n",
    "{user_profile_context}\n",
    "\n",
    "User Query: \"{user_query}\"\n",
    "\n",
    "Matching Products:\n",
    "{product_info}\n",
    "\n",
    "Please recommend the best product options with brief reasoning.\n",
    "\"\"\"\n",
    "\n",
    "    response = gemini.generate_content(prompt)\n",
    "    return response.text"
   ]
  },
  {
   "cell_type": "markdown",
   "id": "f612f83e",
   "metadata": {
    "id": "f612f83e"
   },
   "source": [
    "## Step 10: Gradio Web App with Feedback Collection for Evaluation"
   ]
  },
  {
   "cell_type": "markdown",
   "id": "0db4f89d",
   "metadata": {
    "id": "0db4f89d"
   },
   "source": [
    "### 💬 Assistant Interface Logic\n",
    "This function handles the full query-response loop: it parses input, fetches products, invokes Gemini for reasoning, logs evaluation metrics like precision@k and NDCG, and returns the final reply and scores.\n",
    "\n",
    "This function shopping_assistant_interface() serves as the backend logic for the Gradio-powered shopping assistant. It takes a user query and optionally feedback, then performs several critical steps. First, it uses semantic category detection via closest_category() to map the query to a known product category. It filters the dataset accordingly and retrieves similar products using FAISS-based semantic vector search, which compares dense embeddings of the query and product descriptions.\n",
    "\n",
    "Next, it generates a response using Gemini Flash, summarizing and recommending items based on both the query and filtered products. The model output is parsed using regex and fuzzy matching (get_close_matches) to map generated suggestions back to actual product titles from the dataset. The final matched titles are stored for evaluation and feedback logging. If user feedback is provided, it’s appended to a CSV log with timestamp and query metadata. The Gradio interface then presents the matched product table, Gemini’s recommendation text, and (optionally) the internal list of matched product titles."
   ]
  },
  {
   "cell_type": "code",
   "execution_count": 17,
   "id": "HU_yRV2Z9kCc",
   "metadata": {
    "colab": {
     "base_uri": "https://localhost:8080/",
     "height": 610
    },
    "id": "HU_yRV2Z9kCc",
    "outputId": "ac4dc732-2534-4975-9f73-e98c0a431d56"
   },
   "outputs": [
    {
     "name": "stdout",
     "output_type": "stream",
     "text": [
      "Colab notebook detected. To show errors in colab notebook, set debug=True in launch()\n",
      "* Running on public URL: https://afedaa7ff388d0a9b8.gradio.live\n",
      "\n",
      "This share link expires in 1 week. For free permanent hosting and GPU upgrades, run `gradio deploy` from the terminal in the working directory to deploy to Hugging Face Spaces (https://huggingface.co/spaces)\n"
     ]
    },
    {
     "data": {
      "text/html": [
       "<div><iframe src=\"https://afedaa7ff388d0a9b8.gradio.live\" width=\"100%\" height=\"500\" allow=\"autoplay; camera; microphone; clipboard-read; clipboard-write;\" frameborder=\"0\" allowfullscreen></iframe></div>"
      ],
      "text/plain": [
       "<IPython.core.display.HTML object>"
      ]
     },
     "metadata": {},
     "output_type": "display_data"
    },
    {
     "data": {
      "text/plain": []
     },
     "execution_count": 17,
     "metadata": {},
     "output_type": "execute_result"
    }
   ],
   "source": [
    "\n",
    "def shopping_assistant_interface(user_query, feedback=None):\n",
    "    try:\n",
    "        if not user_query or not user_query.strip():\n",
    "            return pd.DataFrame(), \"❗ Please enter a valid product query.\"\n",
    "\n",
    "        # Assuming closest_category, retrieve_similar_products, generate_gemini_flash_response are defined elsewhere\n",
    "        category = closest_category(user_query)\n",
    "        print(f\"Determined category: {category}\") # Diagnostic print\n",
    "\n",
    "        # Check if the determined category exists in the dataframe\n",
    "        # This check might be redundant if closest_category only returns from allowed_categories,\n",
    "        # but keeping it for safety if allowed_categories is a subset of df categories.\n",
    "        if category not in amazon_df['category'].unique():\n",
    "             print(f\"Determined category '{category}' not found in amazon_df['category']. Unique categories in df: {amazon_df['category'].unique()}\")\n",
    "\n",
    "        # Filtering the dataframe based on category determined by semantic search\n",
    "        filtered_df = amazon_df[amazon_df['category'].str.contains(category, case=False, na=False)].copy()\n",
    "\n",
    "        if filtered_df.empty:\n",
    "            print(f\"Filtering by category '{category}' resulted in an empty DataFrame.\") # Diagnostic print\n",
    "            return pd.DataFrame(), f\"❗ No products found in category '{category}'.\"\n",
    "\n",
    "        # Retrieve similar products using FAISS on the filtered dataframe\n",
    "        retrieved_df = retrieve_similar_products(user_query, filtered_df)\n",
    "\n",
    "        if retrieved_df.empty:\n",
    "            return pd.DataFrame(), \"❗ No similar products found.\"\n",
    "\n",
    "        # Generate Gemini response based on retrieved products and user preference\n",
    "        recommendation_text = generate_gemini_flash_response(user_query, retrieved_df)\n",
    "\n",
    "        # --- Start: Extracting product titles from Gemini's output and matching ---\n",
    "        recommended_product_titles_list = []\n",
    "        if isinstance(recommendation_text, str):\n",
    "            # Attempt to find titles formatted like **Title**\n",
    "            titles = re.findall(r\"\\*\\*(.*?)\\*\\*\", recommendation_text)\n",
    "            if not titles:\n",
    "                 # If not found, attempt to find titles formatted like * Title: or • Title:\n",
    "                 titles = re.findall(r\"[*•]\\s+(.*?)(?::|\\n)\", recommendation_text)\n",
    "\n",
    "            available_titles = amazon_df['product'].dropna().unique().tolist()\n",
    "\n",
    "            for title in titles:\n",
    "                # Use get_close_matches to handle potential variations in Gemini's output\n",
    "                close_matches = get_close_matches(title, available_titles, n=1, cutoff=0.6)\n",
    "                if close_matches:\n",
    "                    # Store the matched title in the desired format for later use\n",
    "                    recommended_product_titles_list.append({'title': close_matches[0]})\n",
    "\n",
    "            if recommended_product_titles_list:\n",
    "                 print(\"✅ Matched Gemini output to actual product titles.\")\n",
    "            else:\n",
    "                 print(\"⚠️ Could not match Gemini output to actual product titles.\")\n",
    "\n",
    "        # --- End: Extracting product titles ---\n",
    "\n",
    "        # Prepare the table output for Gradio\n",
    "        table = retrieved_df[['product', 'category', 'price', 'rating']]\n",
    "\n",
    "        # Log feedback (optional based on user interaction)\n",
    "        if feedback:\n",
    "            log_entry = pd.DataFrame([{\n",
    "                \"timestamp\": datetime.datetime.now().isoformat(),\n",
    "                \"query\": user_query,\n",
    "                \"category\": category,\n",
    "                \"feedback\": feedback,\n",
    "                \"recommendation\": recommendation_text,\n",
    "                \"matched_recommended_products\": str(recommended_product_titles_list) # Log the matched titles\n",
    "            }])\n",
    "            # Make sure the feedback log file exists or create it with headers the first time\n",
    "            if not os.path.exists(\"recommendation_feedback_log.csv\"):\n",
    "                log_entry.to_csv(\"recommendation_feedback_log.csv\", mode=\"a\", index=False, header=True)\n",
    "            else:\n",
    "                 log_entry.to_csv(\"recommendation_feedback_log.csv\", mode=\"a\", index=False, header=False)\n",
    "\n",
    "        # Return the table and the full recommendation text\n",
    "        return table, recommendation_text, recommended_product_titles_list # Also return the processed list of recommended products\n",
    "\n",
    "    except Exception as e:\n",
    "        return pd.DataFrame(), f\"⚠️ Error:\\n{traceback.format_exc()}\", [] # Return empty list for recommended products on error\n",
    "\n",
    "\n",
    "iface = gr.Interface(\n",
    "    fn=shopping_assistant_interface,\n",
    "    inputs=[\n",
    "        gr.Textbox(lines=2, placeholder=\"e.g. Looking for affordable fitness smartwatch\"),\n",
    "        gr.Radio([\"Very helpful\", \"Helpful\", \"Not helpful\"], label=\"Was this recommendation helpful?\")\n",
    "    ],\n",
    "    outputs=[\n",
    "        gr.Dataframe(label=\"Top Matching Products\"),\n",
    "        gr.Textbox(label=\"Gemini's Recommendation\"),\n",
    "        #gr.Variable(label=\"Matched Recommended Product Titles\") # Add an output to capture the processed list\n",
    "    ],\n",
    "    title=\"🛍️ Personalized Shopping Assistant\",\n",
    "    description=\"Enter your product preference and get a Gemini-powered recommendation in real-time.\"\n",
    ")\n",
    "\n",
    "iface.launch(share=True)\n",
    "\n",
    "# The evaluation code in the subsequent cell should now work\n",
    "# because 'recommended_product_titles_list' will be captured\n",
    "# by the Gradio interface and available in the global scope\n",
    "# after a successful interface call."
   ]
  },
  {
   "cell_type": "markdown",
   "id": "b852b8d1",
   "metadata": {
    "id": "b852b8d1"
   },
   "source": [
    "##### STEP 11 : This code powers a personalized shopping assistant by combining multiple types of similarity matching to enhance product recommendations. It uses semantic similarity via SentenceTransformer to embed product titles and descriptions, enabling FAISS to perform efficient vector-based nearest-neighbor search. This helps identify conceptually similar products even if exact words don't match. The assistant also applies fuzzy string matching using difflib.get_close_matches() to align the Gemini model's free-text outputs with real product titles from the dataset.\n",
    "\n",
    "A key part of the personalization logic involves the use of user-preferred categories, which are inferred from the user’s past purchases. These categories form the ground truth for evaluating how relevant the recommended products are. The evaluation step compares the top-k Gemini-suggested products against those preferred categories using metrics like Precision@k, NDCG@k, and Hit@k, providing quantitative feedback on recommendation quality.\n"
   ]
  },
  {
   "cell_type": "code",
   "execution_count": 20,
   "id": "ZwFjQOr993io",
   "metadata": {
    "colab": {
     "base_uri": "https://localhost:8080/"
    },
    "id": "ZwFjQOr993io",
    "outputId": "50a9762d-21e3-439a-fc8e-d7ebcf62ca57"
   },
   "outputs": [
    {
     "name": "stdout",
     "output_type": "stream",
     "text": [
      "Determined category: home&kitchen\n",
      "✅ Matched Gemini output to actual product titles.\n",
      "\n",
      "🔍 Evaluation Results Based on Gemini Recommendations:\n",
      "Precision@5: 0.60\n",
      "NDCG@5: 0.72\n",
      "Hit@5: 1\n",
      "\n",
      "📝 Explanation:\n",
      "- Precision@k: % of top-k recommended products that match user's interests.\n",
      "- NDCG@k: Rewards highly ranked relevant products more.\n",
      "- Hit@k: 1 if any relevant product is found in top-k, else 0.\n"
     ]
    }
   ],
   "source": [
    "# 🧪 Evaluation Metrics for Gemini Recommendations (Safe & Aligned with Notebook)\n",
    "\n",
    "import numpy as np\n",
    "import re # Ensure re and difflib are imported for the evaluation cell\n",
    "from difflib import get_close_matches\n",
    "import traceback # Import traceback for the error handling in the function\n",
    "\n",
    "# --- Metric functions ---\n",
    "def precision_at_k(y_true, y_pred, k):\n",
    "    relevant_items = set(y_true)\n",
    "    retrieved_items = y_pred[:k]\n",
    "    return len(set(retrieved_items) & relevant_items) / k if retrieved_items else 0.0\n",
    "\n",
    "def ndcg_at_k(y_true, y_pred, k):\n",
    "    dcg = sum(1 / np.log2(i + 2) for i, item in enumerate(y_pred[:k]) if item in y_true)\n",
    "    ideal_dcg = sum(1 / np.log2(i + 2) for i in range(min(len(y_true), k)))\n",
    "    return dcg / ideal_dcg if ideal_dcg > 0 else 0.0\n",
    "\n",
    "def hit_at_k(y_true, y_pred, k):\n",
    "    return int(any(item in y_true for item in y_pred[:k]))\n",
    "\n",
    "# --- Gradio Interface Function (Keep the return values) ---\n",
    "def shopping_assistant_interface(user_query, feedback=None):\n",
    "    try:\n",
    "        if not user_query or not user_query.strip():\n",
    "            # Return empty outputs including the list on invalid query\n",
    "            return pd.DataFrame(), \"❗ Please enter a valid product query.\", []\n",
    "\n",
    "        category = closest_category(user_query)\n",
    "        print(f\"Determined category: {category}\")\n",
    "\n",
    "        # Check if the determined category exists in the dataframe\n",
    "        if category not in amazon_df['category'].unique():\n",
    "             print(f\"Determined category '{category}' not found in amazon_df['category']. Unique categories in df: {amazon_df['category'].unique()}\")\n",
    "\n",
    "        filtered_df = amazon_df[amazon_df['category'].str.contains(category, case=False, na=False)].copy()\n",
    "\n",
    "        if filtered_df.empty:\n",
    "            # Return empty outputs including the list if no products found in category\n",
    "            print(f\"Filtering by category '{category}' resulted in an empty DataFrame.\")\n",
    "            return pd.DataFrame(), f\"❗ No products found in category '{category}'.\", []\n",
    "\n",
    "        retrieved_df = retrieve_similar_products(user_query, filtered_df)\n",
    "\n",
    "        if retrieved_df.empty:\n",
    "            # Return empty outputs including the list if no similar products found\n",
    "            return pd.DataFrame(), \"❗ No similar products found.\", []\n",
    "\n",
    "        recommendation_text = generate_gemini_flash_response(user_query, retrieved_df)\n",
    "\n",
    "        recommended_product_titles_list = []\n",
    "        if isinstance(recommendation_text, str):\n",
    "            titles = re.findall(r\"\\*\\*(.*?)\\*\\*\", recommendation_text)\n",
    "            if not titles:\n",
    "                 titles = re.findall(r\"[*•]\\s+(.*?)(?::|\\n)\", recommendation_text)\n",
    "\n",
    "            available_titles = amazon_df['product'].dropna().unique().tolist()\n",
    "\n",
    "            for title in titles:\n",
    "                close_matches = get_close_matches(title, available_titles, n=1, cutoff=0.6)\n",
    "                if close_matches:\n",
    "                    recommended_product_titles_list.append({'title': close_matches[0]})\n",
    "\n",
    "            if recommended_product_titles_list:\n",
    "                 print(\"✅ Matched Gemini output to actual product titles.\")\n",
    "            else:\n",
    "                 print(\"⚠️ Could not match Gemini output to actual product titles.\")\n",
    "\n",
    "        table = retrieved_df[['product', 'category', 'price', 'rating']]\n",
    "\n",
    "        # Log feedback (optional based on user interaction)\n",
    "        if feedback:\n",
    "            log_entry = pd.DataFrame([{\n",
    "                \"timestamp\": datetime.datetime.now().isoformat(),\n",
    "                \"query\": user_query,\n",
    "                \"category\": category,\n",
    "                \"feedback\": feedback,\n",
    "                \"recommendation\": recommendation_text,\n",
    "                \"matched_recommended_products\": str(recommended_product_titles_list)\n",
    "            }])\n",
    "            if not os.path.exists(\"recommendation_feedback_log.csv\"):\n",
    "                log_entry.to_csv(\"recommendation_feedback_log.csv\", mode=\"a\", index=False, header=True)\n",
    "            else:\n",
    "                 log_entry.to_csv(\"recommendation_feedback_log.csv\", mode=\"a\", index=False, header=False)\n",
    "\n",
    "        # Return all three outputs: table, text, and the list\n",
    "        return table, recommendation_text, recommended_product_titles_list\n",
    "\n",
    "    except Exception as e:\n",
    "        # Return empty outputs including the list on error\n",
    "        return pd.DataFrame(), f\"⚠️ Error:\\n{traceback.format_exc()}\", []\n",
    "\n",
    "# --- Gradio Interface Definition (Remove gr.Variable output) ---\n",
    "# NOTE: This interface definition remains the same as in the original code cell\n",
    "# where it's defined and launched. We are just illustrating the corrected definition.\n",
    "# You should apply this change to the Gradio interface definition block in your notebook.\n",
    "\"\"\"\n",
    "iface = gr.Interface(\n",
    "    fn=shopping_assistant_interface,\n",
    "    inputs=[\n",
    "        gr.Textbox(lines=2, placeholder=\"e.g. Looking for affordable fitness smartwatch\"),\n",
    "        gr.Radio([\"Very helpful\", \"Helpful\", \"Not helpful\"], label=\"Was this recommendation helpful?\")\n",
    "    ],\n",
    "    outputs=[\n",
    "        gr.Dataframe(label=\"Top Matching Products\"),\n",
    "        gr.Textbox(label=\"Gemini's Recommendation\")\n",
    "        # Removed gr.Variable as it's not a valid component for display\n",
    "    ],\n",
    "    title=\"🛍️ Personalized Shopping Assistant\",\n",
    "    description=\"Enter your product preference and get a Gemini-powered recommendation in real-time.\"\n",
    ")\n",
    "\n",
    "# iface.launch(share=True) # Keep the launch command in your notebook\n",
    "\"\"\"\n",
    "\n",
    "# --- Evaluation Code (Call the function directly to get the data) ---\n",
    "# Instead of relying on Gradio to make a variable available globally,\n",
    "# call the function directly with a sample query to populate the variables needed for evaluation.\n",
    "# You can use a sample query that you'd typically use in the Gradio interface.\n",
    "\n",
    "try:\n",
    "    # Define a sample query for evaluation\n",
    "    sample_query = \"Looking for a kitchen juicers below ₹10,000 \" # Or any other relevant query\n",
    "    #sample_query = \"Looking for an affordable adapter \" # Or any other relevant query\n",
    "    #sample_query = \"Looking for a keyboard \" # Or any other relevant query\n",
    "\n",
    "    # Call the shopping assistant function directly to get the outputs\n",
    "    # The function now returns three values: table_df, recommendation_text, and the list of titles\n",
    "    _, _, recommended_product_titles_list = shopping_assistant_interface(sample_query)\n",
    "\n",
    "    # Check required variables populated by the function call\n",
    "    if 'amazon_df' not in globals():\n",
    "        raise ValueError(\"❗ 'amazon_df' is missing.\")\n",
    "\n",
    "    if 'preferred_categories' not in globals():\n",
    "        raise ValueError(\"❗ 'preferred_categories' (user interest) not defined.\")\n",
    "\n",
    "    # Ensure the variable holding the processed recommended titles is populated and not empty\n",
    "    if not recommended_product_titles_list:\n",
    "        raise ValueError(f\"❗ 'recommended_product_titles_list' is empty after calling the function with query '{sample_query}'. Check the function's output for this query.\")\n",
    "\n",
    "    # Build relevance ground truth: products matching user's preferred categories\n",
    "    true_relevant_products = amazon_df[\n",
    "        amazon_df['category'].isin(preferred_categories)\n",
    "    ]['product'].dropna().unique().tolist()\n",
    "\n",
    "    # Get titles from the processed list\n",
    "    retrieved_products = [p['title'] for p in recommended_product_titles_list if 'title' in p]\n",
    "\n",
    "    k = 5\n",
    "    print(\"\\n🔍 Evaluation Results Based on Gemini Recommendations:\")\n",
    "    print(f\"Precision@{k}: {precision_at_k(true_relevant_products, retrieved_products, k):.2f}\")\n",
    "    print(f\"NDCG@{k}: {ndcg_at_k(true_relevant_products, retrieved_products, k):.2f}\")\n",
    "    print(f\"Hit@{k}: {hit_at_k(true_relevant_products, retrieved_products, k)}\")\n",
    "\n",
    "    print(\"\\n📝 Explanation:\")\n",
    "    print(\"- Precision@k: % of top-k recommended products that match user's interests.\")\n",
    "    print(\"- NDCG@k: Rewards highly ranked relevant products more.\")\n",
    "    print(\"- Hit@k: 1 if any relevant product is found in top-k, else 0.\")\n",
    "\n",
    "except Exception as e:\n",
    "    print(f\"❗ Evaluation could not be performed: {e}\")"
   ]
  },
  {
   "cell_type": "markdown",
   "id": "b2ac6970",
   "metadata": {
    "id": "b2ac6970"
   },
   "source": [
    "### 🧪 Debug: Filter Products by Keyword (Optional)\n",
    "\n",
    "A temporary debug section to test filtering of rows containing specific keywords (e.g., “juicer”) in the product name. This helps inspect dataset content manually."
   ]
  },
  {
   "cell_type": "code",
   "execution_count": 19,
   "id": "mk5YJsOGP1aK",
   "metadata": {
    "id": "mk5YJsOGP1aK"
   },
   "outputs": [],
   "source": [
    "#amazon_df.columns\n",
    "#amazon_df.tail()\n",
    "\n",
    "# Example: Filter rows where 'product' column contains the word \"juicer\"\n",
    "#filtered_dft = amazon_df[amazon_df['product'].str.contains(\"juicer\", case=False, na=False)]\n",
    "\n",
    "# Print the matching rows\n",
    "#print(filtered_dft)"
   ]
  },
  {
   "cell_type": "markdown",
   "id": "LKsTWmi7A63D",
   "metadata": {
    "id": "LKsTWmi7A63D"
   },
   "source": []
  }
 ],
 "metadata": {
  "accelerator": "GPU",
  "colab": {
   "gpuType": "L4",
   "provenance": []
  },
  "kernelspec": {
   "display_name": "Python 3",
   "name": "python3"
  },
  "language_info": {
   "name": "python"
  }
 },
 "nbformat": 4,
 "nbformat_minor": 5
}
